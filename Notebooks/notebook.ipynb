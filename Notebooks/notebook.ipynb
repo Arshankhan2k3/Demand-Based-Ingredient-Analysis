{
 "cells": [
  {
   "cell_type": "code",
   "execution_count": 1,
   "metadata": {},
   "outputs": [
    {
     "data": {
      "text/html": [
       "<div>\n",
       "<style scoped>\n",
       "    .dataframe tbody tr th:only-of-type {\n",
       "        vertical-align: middle;\n",
       "    }\n",
       "\n",
       "    .dataframe tbody tr th {\n",
       "        vertical-align: top;\n",
       "    }\n",
       "\n",
       "    .dataframe thead th {\n",
       "        text-align: right;\n",
       "    }\n",
       "</style>\n",
       "<table border=\"1\" class=\"dataframe\">\n",
       "  <thead>\n",
       "    <tr style=\"text-align: right;\">\n",
       "      <th></th>\n",
       "      <th>Date</th>\n",
       "      <th>Food Item</th>\n",
       "      <th>Sales</th>\n",
       "      <th>Price</th>\n",
       "      <th>Category</th>\n",
       "    </tr>\n",
       "  </thead>\n",
       "  <tbody>\n",
       "    <tr>\n",
       "      <th>0</th>\n",
       "      <td>2024-07-01</td>\n",
       "      <td>Aloo Tikki Burger</td>\n",
       "      <td>69</td>\n",
       "      <td>49</td>\n",
       "      <td>Burger</td>\n",
       "    </tr>\n",
       "    <tr>\n",
       "      <th>1</th>\n",
       "      <td>2024-07-01</td>\n",
       "      <td>Aloo Tikki Twist</td>\n",
       "      <td>54</td>\n",
       "      <td>69</td>\n",
       "      <td>Burger</td>\n",
       "    </tr>\n",
       "    <tr>\n",
       "      <th>2</th>\n",
       "      <td>2024-07-01</td>\n",
       "      <td>Veg Makhani</td>\n",
       "      <td>78</td>\n",
       "      <td>79</td>\n",
       "      <td>Burger</td>\n",
       "    </tr>\n",
       "    <tr>\n",
       "      <th>3</th>\n",
       "      <td>2024-07-01</td>\n",
       "      <td>Crispy Veg Burger</td>\n",
       "      <td>31</td>\n",
       "      <td>99</td>\n",
       "      <td>Burger</td>\n",
       "    </tr>\n",
       "    <tr>\n",
       "      <th>4</th>\n",
       "      <td>2024-07-01</td>\n",
       "      <td>Veg Chilly Loaded Burger</td>\n",
       "      <td>64</td>\n",
       "      <td>99</td>\n",
       "      <td>Burger</td>\n",
       "    </tr>\n",
       "  </tbody>\n",
       "</table>\n",
       "</div>"
      ],
      "text/plain": [
       "        Date                 Food Item  Sales  Price Category\n",
       "0 2024-07-01         Aloo Tikki Burger     69     49   Burger\n",
       "1 2024-07-01          Aloo Tikki Twist     54     69   Burger\n",
       "2 2024-07-01               Veg Makhani     78     79   Burger\n",
       "3 2024-07-01         Crispy Veg Burger     31     99   Burger\n",
       "4 2024-07-01  Veg Chilly Loaded Burger     64     99   Burger"
      ]
     },
     "execution_count": 1,
     "metadata": {},
     "output_type": "execute_result"
    }
   ],
   "source": [
    "import pandas as pd\n",
    "import numpy as np\n",
    "\n",
    "# Menu items with Price\n",
    "menu_items_with_price = {\n",
    "    \"Aloo Tikki Burger\": 49, \"Aloo Tikki Twist\":69, \"Veg Makhani\":79, \"Crispy Veg Burger\":99,\n",
    "    \"Veg Chilly Loaded Burger\":99, \"Desi Masala Crunch\":119, \"Punjabi Paneer\":109, \n",
    "    \"Veg King Burger\":99, \"Paneer Supreme Burger\":129, \"Double Crispy Cheese Burger\":129\n",
    "}\n",
    "\n",
    "menu_items = [i for i in menu_items_with_price.keys()]\n",
    "price = [i for i in menu_items_with_price.values()]\n",
    "# Generate date range for 3 months\n",
    "dates = pd.date_range(start='2024-07-01', end='2024-09-30')\n",
    "\n",
    "# Create dummy sales data\n",
    "data = {\n",
    "    'Date': np.repeat(dates, len(menu_items)),  # Repeat each date for all menu items\n",
    "    'Food Item': menu_items * len(dates),  # Repeat each food item for each date\n",
    "    'Sales': np.random.randint(20, 100, size=len(dates) * len(menu_items)),  # Random sales quantity between 20 and 100\n",
    "    'Price': price * len(dates)\n",
    "}\n",
    "\n",
    "\n",
    "# Create DataFrame\n",
    "dummy_data = pd.DataFrame(data)\n",
    "\n",
    "# Adding Category Columns\n",
    "dummy_data[\"Category\"] = \"Burger\"\n",
    "\n",
    "# Display the first few rows of the data\n",
    "dummy_data.head()"
   ]
  },
  {
   "cell_type": "code",
   "execution_count": 2,
   "metadata": {},
   "outputs": [
    {
     "data": {
      "text/plain": [
       "Date         92\n",
       "Food Item     1\n",
       "Sales        54\n",
       "Price         1\n",
       "Category      1\n",
       "dtype: int64"
      ]
     },
     "execution_count": 2,
     "metadata": {},
     "output_type": "execute_result"
    }
   ],
   "source": [
    "dummy_data[dummy_data['Food Item']=='Aloo Tikki Burger'].nunique()"
   ]
  },
  {
   "cell_type": "code",
   "execution_count": 3,
   "metadata": {},
   "outputs": [
    {
     "data": {
      "text/html": [
       "<div>\n",
       "<style scoped>\n",
       "    .dataframe tbody tr th:only-of-type {\n",
       "        vertical-align: middle;\n",
       "    }\n",
       "\n",
       "    .dataframe tbody tr th {\n",
       "        vertical-align: top;\n",
       "    }\n",
       "\n",
       "    .dataframe thead th {\n",
       "        text-align: right;\n",
       "    }\n",
       "</style>\n",
       "<table border=\"1\" class=\"dataframe\">\n",
       "  <thead>\n",
       "    <tr style=\"text-align: right;\">\n",
       "      <th></th>\n",
       "      <th>Date</th>\n",
       "      <th>Food Item</th>\n",
       "      <th>Sales</th>\n",
       "      <th>Price</th>\n",
       "      <th>Category</th>\n",
       "    </tr>\n",
       "  </thead>\n",
       "  <tbody>\n",
       "    <tr>\n",
       "      <th>396</th>\n",
       "      <td>2024-08-09</td>\n",
       "      <td>Punjabi Paneer</td>\n",
       "      <td>76</td>\n",
       "      <td>109</td>\n",
       "      <td>Burger</td>\n",
       "    </tr>\n",
       "    <tr>\n",
       "      <th>669</th>\n",
       "      <td>2024-09-05</td>\n",
       "      <td>Double Crispy Cheese Burger</td>\n",
       "      <td>31</td>\n",
       "      <td>129</td>\n",
       "      <td>Burger</td>\n",
       "    </tr>\n",
       "    <tr>\n",
       "      <th>492</th>\n",
       "      <td>2024-08-19</td>\n",
       "      <td>Veg Makhani</td>\n",
       "      <td>45</td>\n",
       "      <td>79</td>\n",
       "      <td>Burger</td>\n",
       "    </tr>\n",
       "    <tr>\n",
       "      <th>301</th>\n",
       "      <td>2024-07-31</td>\n",
       "      <td>Aloo Tikki Twist</td>\n",
       "      <td>94</td>\n",
       "      <td>69</td>\n",
       "      <td>Burger</td>\n",
       "    </tr>\n",
       "    <tr>\n",
       "      <th>796</th>\n",
       "      <td>2024-09-18</td>\n",
       "      <td>Punjabi Paneer</td>\n",
       "      <td>65</td>\n",
       "      <td>109</td>\n",
       "      <td>Burger</td>\n",
       "    </tr>\n",
       "    <tr>\n",
       "      <th>271</th>\n",
       "      <td>2024-07-28</td>\n",
       "      <td>Aloo Tikki Twist</td>\n",
       "      <td>78</td>\n",
       "      <td>69</td>\n",
       "      <td>Burger</td>\n",
       "    </tr>\n",
       "    <tr>\n",
       "      <th>319</th>\n",
       "      <td>2024-08-01</td>\n",
       "      <td>Double Crispy Cheese Burger</td>\n",
       "      <td>36</td>\n",
       "      <td>129</td>\n",
       "      <td>Burger</td>\n",
       "    </tr>\n",
       "    <tr>\n",
       "      <th>739</th>\n",
       "      <td>2024-09-12</td>\n",
       "      <td>Double Crispy Cheese Burger</td>\n",
       "      <td>87</td>\n",
       "      <td>129</td>\n",
       "      <td>Burger</td>\n",
       "    </tr>\n",
       "    <tr>\n",
       "      <th>719</th>\n",
       "      <td>2024-09-10</td>\n",
       "      <td>Double Crispy Cheese Burger</td>\n",
       "      <td>39</td>\n",
       "      <td>129</td>\n",
       "      <td>Burger</td>\n",
       "    </tr>\n",
       "    <tr>\n",
       "      <th>684</th>\n",
       "      <td>2024-09-07</td>\n",
       "      <td>Veg Chilly Loaded Burger</td>\n",
       "      <td>90</td>\n",
       "      <td>99</td>\n",
       "      <td>Burger</td>\n",
       "    </tr>\n",
       "  </tbody>\n",
       "</table>\n",
       "</div>"
      ],
      "text/plain": [
       "          Date                    Food Item  Sales  Price Category\n",
       "396 2024-08-09               Punjabi Paneer     76    109   Burger\n",
       "669 2024-09-05  Double Crispy Cheese Burger     31    129   Burger\n",
       "492 2024-08-19                  Veg Makhani     45     79   Burger\n",
       "301 2024-07-31             Aloo Tikki Twist     94     69   Burger\n",
       "796 2024-09-18               Punjabi Paneer     65    109   Burger\n",
       "271 2024-07-28             Aloo Tikki Twist     78     69   Burger\n",
       "319 2024-08-01  Double Crispy Cheese Burger     36    129   Burger\n",
       "739 2024-09-12  Double Crispy Cheese Burger     87    129   Burger\n",
       "719 2024-09-10  Double Crispy Cheese Burger     39    129   Burger\n",
       "684 2024-09-07     Veg Chilly Loaded Burger     90     99   Burger"
      ]
     },
     "execution_count": 3,
     "metadata": {},
     "output_type": "execute_result"
    }
   ],
   "source": [
    "dummy_data.sample(10)"
   ]
  },
  {
   "cell_type": "code",
   "execution_count": 4,
   "metadata": {},
   "outputs": [],
   "source": [
    "# dummy_data.to_csv(\"restaurant_dummy_sales.csv\", index=False)"
   ]
  },
  {
   "cell_type": "code",
   "execution_count": 5,
   "metadata": {},
   "outputs": [
    {
     "data": {
      "text/html": [
       "<div>\n",
       "<style scoped>\n",
       "    .dataframe tbody tr th:only-of-type {\n",
       "        vertical-align: middle;\n",
       "    }\n",
       "\n",
       "    .dataframe tbody tr th {\n",
       "        vertical-align: top;\n",
       "    }\n",
       "\n",
       "    .dataframe thead th {\n",
       "        text-align: right;\n",
       "    }\n",
       "</style>\n",
       "<table border=\"1\" class=\"dataframe\">\n",
       "  <thead>\n",
       "    <tr style=\"text-align: right;\">\n",
       "      <th></th>\n",
       "      <th>Date</th>\n",
       "      <th>Sales</th>\n",
       "      <th>Price</th>\n",
       "    </tr>\n",
       "  </thead>\n",
       "  <tbody>\n",
       "    <tr>\n",
       "      <th>count</th>\n",
       "      <td>920</td>\n",
       "      <td>920.000000</td>\n",
       "      <td>920.000000</td>\n",
       "    </tr>\n",
       "    <tr>\n",
       "      <th>mean</th>\n",
       "      <td>2024-08-15 12:00:00</td>\n",
       "      <td>58.609783</td>\n",
       "      <td>98.000000</td>\n",
       "    </tr>\n",
       "    <tr>\n",
       "      <th>min</th>\n",
       "      <td>2024-07-01 00:00:00</td>\n",
       "      <td>20.000000</td>\n",
       "      <td>49.000000</td>\n",
       "    </tr>\n",
       "    <tr>\n",
       "      <th>25%</th>\n",
       "      <td>2024-07-23 18:00:00</td>\n",
       "      <td>39.000000</td>\n",
       "      <td>79.000000</td>\n",
       "    </tr>\n",
       "    <tr>\n",
       "      <th>50%</th>\n",
       "      <td>2024-08-15 12:00:00</td>\n",
       "      <td>57.000000</td>\n",
       "      <td>99.000000</td>\n",
       "    </tr>\n",
       "    <tr>\n",
       "      <th>75%</th>\n",
       "      <td>2024-09-07 06:00:00</td>\n",
       "      <td>78.000000</td>\n",
       "      <td>119.000000</td>\n",
       "    </tr>\n",
       "    <tr>\n",
       "      <th>max</th>\n",
       "      <td>2024-09-30 00:00:00</td>\n",
       "      <td>99.000000</td>\n",
       "      <td>129.000000</td>\n",
       "    </tr>\n",
       "    <tr>\n",
       "      <th>std</th>\n",
       "      <td>NaN</td>\n",
       "      <td>22.753897</td>\n",
       "      <td>24.691348</td>\n",
       "    </tr>\n",
       "  </tbody>\n",
       "</table>\n",
       "</div>"
      ],
      "text/plain": [
       "                      Date       Sales       Price\n",
       "count                  920  920.000000  920.000000\n",
       "mean   2024-08-15 12:00:00   58.609783   98.000000\n",
       "min    2024-07-01 00:00:00   20.000000   49.000000\n",
       "25%    2024-07-23 18:00:00   39.000000   79.000000\n",
       "50%    2024-08-15 12:00:00   57.000000   99.000000\n",
       "75%    2024-09-07 06:00:00   78.000000  119.000000\n",
       "max    2024-09-30 00:00:00   99.000000  129.000000\n",
       "std                    NaN   22.753897   24.691348"
      ]
     },
     "execution_count": 5,
     "metadata": {},
     "output_type": "execute_result"
    }
   ],
   "source": [
    "dummy_data.describe()"
   ]
  },
  {
   "cell_type": "code",
   "execution_count": 6,
   "metadata": {},
   "outputs": [
    {
     "data": {
      "text/plain": [
       "(920, 5)"
      ]
     },
     "execution_count": 6,
     "metadata": {},
     "output_type": "execute_result"
    }
   ],
   "source": [
    "dummy_data.shape"
   ]
  },
  {
   "cell_type": "code",
   "execution_count": 7,
   "metadata": {},
   "outputs": [],
   "source": [
    "ingredient_category = {\n",
    "    'Tikki':['Aloo Tikki','Veg Tikki','Paneer Tikki','Super Veg Tikki'],\n",
    "    'Veggies':['Onion','Iceberg','Lettuce','Jalapeno','Tomato','Nachos'],\n",
    "    'Sauces':['Aloo Tikki Sauce','Twist Sauce','Mayonnaise','Makhni Sauce','Creamy Sauce','Nacho Loaded Sauce', \n",
    "              'Chilly Loaded Sauce','Supreme Sauce','Wrap Sauce','Nacho Sauce'],\n",
    "    'Other':['Bun','Cheese Slice']    \n",
    "}\n",
    "\n",
    "# Burger Data\n",
    "burgers = {\n",
    "            \"Aloo Tikki Burger\":{'Bun':'1 pcs','Aloo Tikki Sauce (top)':'15 gm','Onion':'8 gm','Aloo Tikki':'1 pcs','Aloo Tikki Sauce':'12 gm'},\n",
    "            \"Aloo Tikki Twist\":{'Bun':'1 pcs','Twist Sauce':'12 gm','Onion':'8 gm','Aloo Tikki':'1 pcs','Mayonnaise':'15 gm'},\n",
    "            \"Veg Makhani\":{'Bun':'1 pcs','Makhni Sauce (top)':'12 gm','Iceberg':'8 gm','Onion':'8 gm','Veg Tikki':'1 pcs','Makhni Sauce':'15 gm'},\n",
    "            \"Crispy Veg Burger\":{'Bun':'1 pcs','Creamy Sauce':'20 gm','Lettuce':'8 gm','Jalapeno':'2 pcs','Onion':'8 gm','Veg Tikki':'1 pcs','Chilly Loaded Sauce':'10 gm'}, \n",
    "            \"Veg Chilly Loaded Burger\":{'Bun':'1 pcs','Chilly Loaded Sauce (top)':'20 gm','Lettuce':'8 gm','Onion':'8 gm','Jalapeno':'2 pcs','Veg Tikki':'1 pcs','Chilly Loaded Sauce':'12 gm'},\n",
    "            \"Desi Masala Crunch\":{'Bun':'1 pcs','Creamy Sauce':'20 gm','Lettuce':'8 gm','Tomato':'1 pcs','Jalapeno':'2 pcs','Onion':'8 gm','Nachos':'3 pcs','Veg Tikki':'1 pcs','Nacho Sauce':'12 gm'},\n",
    "            \"Punjabi Paneer\":{'Bun':'1 pcs','Supreme Sauce':'25 gm','Iceberg':'8 gm','Tomato':'2 pcs','Jalapeno':'2 pcs','Onion':'8 gm','Paneer Tikki':'1 pcs','Wrap Sauce':'15 gm'}, \n",
    "            \"Veg King Burger\":{'Bun':'1 pcs','Wrap Sauce':'25 gm','Iceberg':'8 gm','Tomato':'1 pcs','Onion':'10 gm','Super Veg Tikki':'1 pcs','Nacho Sauce':'15 gm'},\n",
    "            \"Paneer Supreme Burger\":{'Bun':'1 pcs','Supreme Sauce':'25 gm','Lettuce':'8 gm','Jalapeno':'2 pcs','Onion':'10 gm','Creamy Sauce':'12gm','Paneer Tikki':'1 pcs','Chilly Loaded Sauce':'12 gm'},\n",
    "            \"Double Crispy Cheese Burger\":{'Bun':'1 pcs','Supreme Sauce':'20 gm','Lettuce':'8 gm','Jalapeno':'2 pcs','Onion':'8 gm','Cheese Slice':'1 pcs','Veg Tikki':'2 pcs','Chilly Loaded Sauce':'12 gm'}\n",
    "           }"
   ]
  },
  {
   "cell_type": "code",
   "execution_count": 8,
   "metadata": {},
   "outputs": [
    {
     "data": {
      "text/html": [
       "<div>\n",
       "<style scoped>\n",
       "    .dataframe tbody tr th:only-of-type {\n",
       "        vertical-align: middle;\n",
       "    }\n",
       "\n",
       "    .dataframe tbody tr th {\n",
       "        vertical-align: top;\n",
       "    }\n",
       "\n",
       "    .dataframe thead th {\n",
       "        text-align: right;\n",
       "    }\n",
       "</style>\n",
       "<table border=\"1\" class=\"dataframe\">\n",
       "  <thead>\n",
       "    <tr style=\"text-align: right;\">\n",
       "      <th></th>\n",
       "      <th>Burger_Name</th>\n",
       "      <th>Ingredient</th>\n",
       "      <th>Quantity</th>\n",
       "    </tr>\n",
       "  </thead>\n",
       "  <tbody>\n",
       "    <tr>\n",
       "      <th>0</th>\n",
       "      <td>Aloo Tikki Burger</td>\n",
       "      <td>Bun</td>\n",
       "      <td>1 pcs</td>\n",
       "    </tr>\n",
       "    <tr>\n",
       "      <th>1</th>\n",
       "      <td>Aloo Tikki Burger</td>\n",
       "      <td>Aloo Tikki Sauce (top)</td>\n",
       "      <td>15 gm</td>\n",
       "    </tr>\n",
       "    <tr>\n",
       "      <th>2</th>\n",
       "      <td>Aloo Tikki Burger</td>\n",
       "      <td>Onion</td>\n",
       "      <td>8 gm</td>\n",
       "    </tr>\n",
       "    <tr>\n",
       "      <th>3</th>\n",
       "      <td>Aloo Tikki Burger</td>\n",
       "      <td>Aloo Tikki</td>\n",
       "      <td>1 pcs</td>\n",
       "    </tr>\n",
       "    <tr>\n",
       "      <th>4</th>\n",
       "      <td>Aloo Tikki Burger</td>\n",
       "      <td>Aloo Tikki Sauce</td>\n",
       "      <td>12 gm</td>\n",
       "    </tr>\n",
       "    <tr>\n",
       "      <th>5</th>\n",
       "      <td>Aloo Tikki Twist</td>\n",
       "      <td>Bun</td>\n",
       "      <td>1 pcs</td>\n",
       "    </tr>\n",
       "    <tr>\n",
       "      <th>6</th>\n",
       "      <td>Aloo Tikki Twist</td>\n",
       "      <td>Twist Sauce</td>\n",
       "      <td>12 gm</td>\n",
       "    </tr>\n",
       "    <tr>\n",
       "      <th>7</th>\n",
       "      <td>Aloo Tikki Twist</td>\n",
       "      <td>Onion</td>\n",
       "      <td>8 gm</td>\n",
       "    </tr>\n",
       "    <tr>\n",
       "      <th>8</th>\n",
       "      <td>Aloo Tikki Twist</td>\n",
       "      <td>Aloo Tikki</td>\n",
       "      <td>1 pcs</td>\n",
       "    </tr>\n",
       "    <tr>\n",
       "      <th>9</th>\n",
       "      <td>Aloo Tikki Twist</td>\n",
       "      <td>Mayonnaise</td>\n",
       "      <td>15 gm</td>\n",
       "    </tr>\n",
       "  </tbody>\n",
       "</table>\n",
       "</div>"
      ],
      "text/plain": [
       "         Burger_Name              Ingredient Quantity\n",
       "0  Aloo Tikki Burger                     Bun    1 pcs\n",
       "1  Aloo Tikki Burger  Aloo Tikki Sauce (top)    15 gm\n",
       "2  Aloo Tikki Burger                   Onion     8 gm\n",
       "3  Aloo Tikki Burger              Aloo Tikki    1 pcs\n",
       "4  Aloo Tikki Burger        Aloo Tikki Sauce    12 gm\n",
       "5   Aloo Tikki Twist                     Bun    1 pcs\n",
       "6   Aloo Tikki Twist             Twist Sauce    12 gm\n",
       "7   Aloo Tikki Twist                   Onion     8 gm\n",
       "8   Aloo Tikki Twist              Aloo Tikki    1 pcs\n",
       "9   Aloo Tikki Twist              Mayonnaise    15 gm"
      ]
     },
     "execution_count": 8,
     "metadata": {},
     "output_type": "execute_result"
    }
   ],
   "source": [
    "# List to hold the data for the DataFrame\n",
    "data = []\n",
    "\n",
    "# Loop over each burger and its ingredients\n",
    "for burger_name, ingredients in burgers.items():\n",
    "    for ingredient, quantity in ingredients.items():\n",
    "        data.append([burger_name, ingredient, quantity])\n",
    "\n",
    "# Creating DataFrame\n",
    "df = pd.DataFrame(data, columns=['Burger_Name', 'Ingredient', 'Quantity'])\n",
    "\n",
    "# Display the DataFrame\n",
    "df.head(10)"
   ]
  },
  {
   "cell_type": "code",
   "execution_count": 9,
   "metadata": {},
   "outputs": [
    {
     "name": "stdout",
     "output_type": "stream",
     "text": [
      "         Burger_Name              Ingredient Quantity\n",
      "0  Aloo Tikki Burger                     Bun    1 pcs\n",
      "1  Aloo Tikki Burger  Aloo Tikki Sauce (top)    15 gm\n",
      "2  Aloo Tikki Burger                   Onion     8 gm\n",
      "3  Aloo Tikki Burger              Aloo Tikki    1 pcs\n",
      "4  Aloo Tikki Burger        Aloo Tikki Sauce    12 gm\n",
      "\n",
      "\n",
      "        Burger_Name   Ingredient Quantity\n",
      "5  Aloo Tikki Twist          Bun    1 pcs\n",
      "6  Aloo Tikki Twist  Twist Sauce    12 gm\n",
      "7  Aloo Tikki Twist        Onion     8 gm\n",
      "8  Aloo Tikki Twist   Aloo Tikki    1 pcs\n",
      "9  Aloo Tikki Twist   Mayonnaise    15 gm\n",
      "\n",
      "\n",
      "    Burger_Name          Ingredient Quantity\n",
      "10  Veg Makhani                 Bun    1 pcs\n",
      "11  Veg Makhani  Makhni Sauce (top)    12 gm\n",
      "12  Veg Makhani             Iceberg     8 gm\n",
      "13  Veg Makhani               Onion     8 gm\n",
      "14  Veg Makhani           Veg Tikki    1 pcs\n",
      "15  Veg Makhani        Makhni Sauce    15 gm\n",
      "\n",
      "\n",
      "          Burger_Name           Ingredient Quantity\n",
      "16  Crispy Veg Burger                  Bun    1 pcs\n",
      "17  Crispy Veg Burger         Creamy Sauce    20 gm\n",
      "18  Crispy Veg Burger              Lettuce     8 gm\n",
      "19  Crispy Veg Burger             Jalapeno    2 pcs\n",
      "20  Crispy Veg Burger                Onion     8 gm\n",
      "21  Crispy Veg Burger            Veg Tikki    1 pcs\n",
      "22  Crispy Veg Burger  Chilly Loaded Sauce    10 gm\n",
      "\n",
      "\n",
      "                 Burger_Name                 Ingredient Quantity\n",
      "23  Veg Chilly Loaded Burger                        Bun    1 pcs\n",
      "24  Veg Chilly Loaded Burger  Chilly Loaded Sauce (top)    20 gm\n",
      "25  Veg Chilly Loaded Burger                    Lettuce     8 gm\n",
      "26  Veg Chilly Loaded Burger                      Onion     8 gm\n",
      "27  Veg Chilly Loaded Burger                   Jalapeno    2 pcs\n",
      "28  Veg Chilly Loaded Burger                  Veg Tikki    1 pcs\n",
      "29  Veg Chilly Loaded Burger        Chilly Loaded Sauce    12 gm\n",
      "\n",
      "\n",
      "           Burger_Name    Ingredient Quantity\n",
      "30  Desi Masala Crunch           Bun    1 pcs\n",
      "31  Desi Masala Crunch  Creamy Sauce    20 gm\n",
      "32  Desi Masala Crunch       Lettuce     8 gm\n",
      "33  Desi Masala Crunch        Tomato    1 pcs\n",
      "34  Desi Masala Crunch      Jalapeno    2 pcs\n",
      "35  Desi Masala Crunch         Onion     8 gm\n",
      "36  Desi Masala Crunch        Nachos    3 pcs\n",
      "37  Desi Masala Crunch     Veg Tikki    1 pcs\n",
      "38  Desi Masala Crunch   Nacho Sauce    12 gm\n",
      "\n",
      "\n",
      "       Burger_Name     Ingredient Quantity\n",
      "39  Punjabi Paneer            Bun    1 pcs\n",
      "40  Punjabi Paneer  Supreme Sauce    25 gm\n",
      "41  Punjabi Paneer        Iceberg     8 gm\n",
      "42  Punjabi Paneer         Tomato    2 pcs\n",
      "43  Punjabi Paneer       Jalapeno    2 pcs\n",
      "44  Punjabi Paneer          Onion     8 gm\n",
      "45  Punjabi Paneer   Paneer Tikki    1 pcs\n",
      "46  Punjabi Paneer     Wrap Sauce    15 gm\n",
      "\n",
      "\n",
      "        Burger_Name       Ingredient Quantity\n",
      "47  Veg King Burger              Bun    1 pcs\n",
      "48  Veg King Burger       Wrap Sauce    25 gm\n",
      "49  Veg King Burger          Iceberg     8 gm\n",
      "50  Veg King Burger           Tomato    1 pcs\n",
      "51  Veg King Burger            Onion    10 gm\n",
      "52  Veg King Burger  Super Veg Tikki    1 pcs\n",
      "53  Veg King Burger      Nacho Sauce    15 gm\n",
      "\n",
      "\n",
      "              Burger_Name           Ingredient Quantity\n",
      "54  Paneer Supreme Burger                  Bun    1 pcs\n",
      "55  Paneer Supreme Burger        Supreme Sauce    25 gm\n",
      "56  Paneer Supreme Burger              Lettuce     8 gm\n",
      "57  Paneer Supreme Burger             Jalapeno    2 pcs\n",
      "58  Paneer Supreme Burger                Onion    10 gm\n",
      "59  Paneer Supreme Burger         Creamy Sauce     12gm\n",
      "60  Paneer Supreme Burger         Paneer Tikki    1 pcs\n",
      "61  Paneer Supreme Burger  Chilly Loaded Sauce    12 gm\n",
      "\n",
      "\n",
      "                    Burger_Name           Ingredient Quantity\n",
      "62  Double Crispy Cheese Burger                  Bun    1 pcs\n",
      "63  Double Crispy Cheese Burger        Supreme Sauce    20 gm\n",
      "64  Double Crispy Cheese Burger              Lettuce     8 gm\n",
      "65  Double Crispy Cheese Burger             Jalapeno    2 pcs\n",
      "66  Double Crispy Cheese Burger                Onion     8 gm\n",
      "67  Double Crispy Cheese Burger         Cheese Slice    1 pcs\n",
      "68  Double Crispy Cheese Burger            Veg Tikki    2 pcs\n",
      "69  Double Crispy Cheese Burger  Chilly Loaded Sauce    12 gm\n",
      "\n",
      "\n"
     ]
    }
   ],
   "source": [
    "for i in burgers.keys():\n",
    "    print(df[df['Burger_Name']==i])\n",
    "    print(\"\\n\")"
   ]
  },
  {
   "cell_type": "code",
   "execution_count": 10,
   "metadata": {},
   "outputs": [],
   "source": [
    "# Segregating Quantity and Unit into two new columns\n",
    "df[['Quantity', 'Unit']] = df['Quantity'].str.extract(r'(\\d+)\\s*(\\w+)')\n",
    "\n",
    "# Removing '(top)' from the Ingredient column\n",
    "df['Ingredient'] = df['Ingredient'].str.replace(r'\\s*\\(top\\)', '', regex=True)"
   ]
  },
  {
   "cell_type": "code",
   "execution_count": 11,
   "metadata": {},
   "outputs": [
    {
     "data": {
      "text/html": [
       "<div>\n",
       "<style scoped>\n",
       "    .dataframe tbody tr th:only-of-type {\n",
       "        vertical-align: middle;\n",
       "    }\n",
       "\n",
       "    .dataframe tbody tr th {\n",
       "        vertical-align: top;\n",
       "    }\n",
       "\n",
       "    .dataframe thead th {\n",
       "        text-align: right;\n",
       "    }\n",
       "</style>\n",
       "<table border=\"1\" class=\"dataframe\">\n",
       "  <thead>\n",
       "    <tr style=\"text-align: right;\">\n",
       "      <th></th>\n",
       "      <th>Burger_Name</th>\n",
       "      <th>Ingredient</th>\n",
       "      <th>Quantity</th>\n",
       "      <th>Unit</th>\n",
       "    </tr>\n",
       "  </thead>\n",
       "  <tbody>\n",
       "    <tr>\n",
       "      <th>0</th>\n",
       "      <td>Aloo Tikki Burger</td>\n",
       "      <td>Bun</td>\n",
       "      <td>1</td>\n",
       "      <td>pcs</td>\n",
       "    </tr>\n",
       "    <tr>\n",
       "      <th>1</th>\n",
       "      <td>Aloo Tikki Burger</td>\n",
       "      <td>Aloo Tikki Sauce</td>\n",
       "      <td>15</td>\n",
       "      <td>gm</td>\n",
       "    </tr>\n",
       "    <tr>\n",
       "      <th>2</th>\n",
       "      <td>Aloo Tikki Burger</td>\n",
       "      <td>Onion</td>\n",
       "      <td>8</td>\n",
       "      <td>gm</td>\n",
       "    </tr>\n",
       "    <tr>\n",
       "      <th>3</th>\n",
       "      <td>Aloo Tikki Burger</td>\n",
       "      <td>Aloo Tikki</td>\n",
       "      <td>1</td>\n",
       "      <td>pcs</td>\n",
       "    </tr>\n",
       "    <tr>\n",
       "      <th>4</th>\n",
       "      <td>Aloo Tikki Burger</td>\n",
       "      <td>Aloo Tikki Sauce</td>\n",
       "      <td>12</td>\n",
       "      <td>gm</td>\n",
       "    </tr>\n",
       "    <tr>\n",
       "      <th>5</th>\n",
       "      <td>Aloo Tikki Twist</td>\n",
       "      <td>Bun</td>\n",
       "      <td>1</td>\n",
       "      <td>pcs</td>\n",
       "    </tr>\n",
       "    <tr>\n",
       "      <th>6</th>\n",
       "      <td>Aloo Tikki Twist</td>\n",
       "      <td>Twist Sauce</td>\n",
       "      <td>12</td>\n",
       "      <td>gm</td>\n",
       "    </tr>\n",
       "    <tr>\n",
       "      <th>7</th>\n",
       "      <td>Aloo Tikki Twist</td>\n",
       "      <td>Onion</td>\n",
       "      <td>8</td>\n",
       "      <td>gm</td>\n",
       "    </tr>\n",
       "    <tr>\n",
       "      <th>8</th>\n",
       "      <td>Aloo Tikki Twist</td>\n",
       "      <td>Aloo Tikki</td>\n",
       "      <td>1</td>\n",
       "      <td>pcs</td>\n",
       "    </tr>\n",
       "    <tr>\n",
       "      <th>9</th>\n",
       "      <td>Aloo Tikki Twist</td>\n",
       "      <td>Mayonnaise</td>\n",
       "      <td>15</td>\n",
       "      <td>gm</td>\n",
       "    </tr>\n",
       "  </tbody>\n",
       "</table>\n",
       "</div>"
      ],
      "text/plain": [
       "         Burger_Name        Ingredient Quantity Unit\n",
       "0  Aloo Tikki Burger               Bun        1  pcs\n",
       "1  Aloo Tikki Burger  Aloo Tikki Sauce       15   gm\n",
       "2  Aloo Tikki Burger             Onion        8   gm\n",
       "3  Aloo Tikki Burger        Aloo Tikki        1  pcs\n",
       "4  Aloo Tikki Burger  Aloo Tikki Sauce       12   gm\n",
       "5   Aloo Tikki Twist               Bun        1  pcs\n",
       "6   Aloo Tikki Twist       Twist Sauce       12   gm\n",
       "7   Aloo Tikki Twist             Onion        8   gm\n",
       "8   Aloo Tikki Twist        Aloo Tikki        1  pcs\n",
       "9   Aloo Tikki Twist        Mayonnaise       15   gm"
      ]
     },
     "execution_count": 11,
     "metadata": {},
     "output_type": "execute_result"
    }
   ],
   "source": [
    "df.head(10)"
   ]
  },
  {
   "cell_type": "code",
   "execution_count": 12,
   "metadata": {},
   "outputs": [
    {
     "data": {
      "text/html": [
       "<div>\n",
       "<style scoped>\n",
       "    .dataframe tbody tr th:only-of-type {\n",
       "        vertical-align: middle;\n",
       "    }\n",
       "\n",
       "    .dataframe tbody tr th {\n",
       "        vertical-align: top;\n",
       "    }\n",
       "\n",
       "    .dataframe thead th {\n",
       "        text-align: right;\n",
       "    }\n",
       "</style>\n",
       "<table border=\"1\" class=\"dataframe\">\n",
       "  <thead>\n",
       "    <tr style=\"text-align: right;\">\n",
       "      <th></th>\n",
       "      <th>Burger_Name</th>\n",
       "      <th>Ingredient</th>\n",
       "      <th>Quantity</th>\n",
       "      <th>Unit</th>\n",
       "      <th>Category</th>\n",
       "    </tr>\n",
       "  </thead>\n",
       "  <tbody>\n",
       "    <tr>\n",
       "      <th>0</th>\n",
       "      <td>Aloo Tikki Burger</td>\n",
       "      <td>Bun</td>\n",
       "      <td>1</td>\n",
       "      <td>pcs</td>\n",
       "      <td>Other</td>\n",
       "    </tr>\n",
       "    <tr>\n",
       "      <th>1</th>\n",
       "      <td>Aloo Tikki Burger</td>\n",
       "      <td>Aloo Tikki Sauce</td>\n",
       "      <td>15</td>\n",
       "      <td>gm</td>\n",
       "      <td>Sauces</td>\n",
       "    </tr>\n",
       "    <tr>\n",
       "      <th>2</th>\n",
       "      <td>Aloo Tikki Burger</td>\n",
       "      <td>Onion</td>\n",
       "      <td>8</td>\n",
       "      <td>gm</td>\n",
       "      <td>Veggies</td>\n",
       "    </tr>\n",
       "    <tr>\n",
       "      <th>3</th>\n",
       "      <td>Aloo Tikki Burger</td>\n",
       "      <td>Aloo Tikki</td>\n",
       "      <td>1</td>\n",
       "      <td>pcs</td>\n",
       "      <td>Tikki</td>\n",
       "    </tr>\n",
       "    <tr>\n",
       "      <th>4</th>\n",
       "      <td>Aloo Tikki Burger</td>\n",
       "      <td>Aloo Tikki Sauce</td>\n",
       "      <td>12</td>\n",
       "      <td>gm</td>\n",
       "      <td>Sauces</td>\n",
       "    </tr>\n",
       "    <tr>\n",
       "      <th>5</th>\n",
       "      <td>Aloo Tikki Twist</td>\n",
       "      <td>Bun</td>\n",
       "      <td>1</td>\n",
       "      <td>pcs</td>\n",
       "      <td>Other</td>\n",
       "    </tr>\n",
       "    <tr>\n",
       "      <th>6</th>\n",
       "      <td>Aloo Tikki Twist</td>\n",
       "      <td>Twist Sauce</td>\n",
       "      <td>12</td>\n",
       "      <td>gm</td>\n",
       "      <td>Sauces</td>\n",
       "    </tr>\n",
       "    <tr>\n",
       "      <th>7</th>\n",
       "      <td>Aloo Tikki Twist</td>\n",
       "      <td>Onion</td>\n",
       "      <td>8</td>\n",
       "      <td>gm</td>\n",
       "      <td>Veggies</td>\n",
       "    </tr>\n",
       "    <tr>\n",
       "      <th>8</th>\n",
       "      <td>Aloo Tikki Twist</td>\n",
       "      <td>Aloo Tikki</td>\n",
       "      <td>1</td>\n",
       "      <td>pcs</td>\n",
       "      <td>Tikki</td>\n",
       "    </tr>\n",
       "    <tr>\n",
       "      <th>9</th>\n",
       "      <td>Aloo Tikki Twist</td>\n",
       "      <td>Mayonnaise</td>\n",
       "      <td>15</td>\n",
       "      <td>gm</td>\n",
       "      <td>Sauces</td>\n",
       "    </tr>\n",
       "    <tr>\n",
       "      <th>10</th>\n",
       "      <td>Veg Makhani</td>\n",
       "      <td>Bun</td>\n",
       "      <td>1</td>\n",
       "      <td>pcs</td>\n",
       "      <td>Other</td>\n",
       "    </tr>\n",
       "    <tr>\n",
       "      <th>11</th>\n",
       "      <td>Veg Makhani</td>\n",
       "      <td>Makhni Sauce</td>\n",
       "      <td>12</td>\n",
       "      <td>gm</td>\n",
       "      <td>Sauces</td>\n",
       "    </tr>\n",
       "    <tr>\n",
       "      <th>12</th>\n",
       "      <td>Veg Makhani</td>\n",
       "      <td>Iceberg</td>\n",
       "      <td>8</td>\n",
       "      <td>gm</td>\n",
       "      <td>Veggies</td>\n",
       "    </tr>\n",
       "    <tr>\n",
       "      <th>13</th>\n",
       "      <td>Veg Makhani</td>\n",
       "      <td>Onion</td>\n",
       "      <td>8</td>\n",
       "      <td>gm</td>\n",
       "      <td>Veggies</td>\n",
       "    </tr>\n",
       "    <tr>\n",
       "      <th>14</th>\n",
       "      <td>Veg Makhani</td>\n",
       "      <td>Veg Tikki</td>\n",
       "      <td>1</td>\n",
       "      <td>pcs</td>\n",
       "      <td>Tikki</td>\n",
       "    </tr>\n",
       "    <tr>\n",
       "      <th>15</th>\n",
       "      <td>Veg Makhani</td>\n",
       "      <td>Makhni Sauce</td>\n",
       "      <td>15</td>\n",
       "      <td>gm</td>\n",
       "      <td>Sauces</td>\n",
       "    </tr>\n",
       "    <tr>\n",
       "      <th>16</th>\n",
       "      <td>Crispy Veg Burger</td>\n",
       "      <td>Bun</td>\n",
       "      <td>1</td>\n",
       "      <td>pcs</td>\n",
       "      <td>Other</td>\n",
       "    </tr>\n",
       "    <tr>\n",
       "      <th>17</th>\n",
       "      <td>Crispy Veg Burger</td>\n",
       "      <td>Creamy Sauce</td>\n",
       "      <td>20</td>\n",
       "      <td>gm</td>\n",
       "      <td>Sauces</td>\n",
       "    </tr>\n",
       "    <tr>\n",
       "      <th>18</th>\n",
       "      <td>Crispy Veg Burger</td>\n",
       "      <td>Lettuce</td>\n",
       "      <td>8</td>\n",
       "      <td>gm</td>\n",
       "      <td>Veggies</td>\n",
       "    </tr>\n",
       "    <tr>\n",
       "      <th>19</th>\n",
       "      <td>Crispy Veg Burger</td>\n",
       "      <td>Jalapeno</td>\n",
       "      <td>2</td>\n",
       "      <td>pcs</td>\n",
       "      <td>Veggies</td>\n",
       "    </tr>\n",
       "    <tr>\n",
       "      <th>20</th>\n",
       "      <td>Crispy Veg Burger</td>\n",
       "      <td>Onion</td>\n",
       "      <td>8</td>\n",
       "      <td>gm</td>\n",
       "      <td>Veggies</td>\n",
       "    </tr>\n",
       "    <tr>\n",
       "      <th>21</th>\n",
       "      <td>Crispy Veg Burger</td>\n",
       "      <td>Veg Tikki</td>\n",
       "      <td>1</td>\n",
       "      <td>pcs</td>\n",
       "      <td>Tikki</td>\n",
       "    </tr>\n",
       "    <tr>\n",
       "      <th>22</th>\n",
       "      <td>Crispy Veg Burger</td>\n",
       "      <td>Chilly Loaded Sauce</td>\n",
       "      <td>10</td>\n",
       "      <td>gm</td>\n",
       "      <td>Sauces</td>\n",
       "    </tr>\n",
       "  </tbody>\n",
       "</table>\n",
       "</div>"
      ],
      "text/plain": [
       "          Burger_Name           Ingredient Quantity Unit Category\n",
       "0   Aloo Tikki Burger                  Bun        1  pcs    Other\n",
       "1   Aloo Tikki Burger     Aloo Tikki Sauce       15   gm   Sauces\n",
       "2   Aloo Tikki Burger                Onion        8   gm  Veggies\n",
       "3   Aloo Tikki Burger           Aloo Tikki        1  pcs    Tikki\n",
       "4   Aloo Tikki Burger     Aloo Tikki Sauce       12   gm   Sauces\n",
       "5    Aloo Tikki Twist                  Bun        1  pcs    Other\n",
       "6    Aloo Tikki Twist          Twist Sauce       12   gm   Sauces\n",
       "7    Aloo Tikki Twist                Onion        8   gm  Veggies\n",
       "8    Aloo Tikki Twist           Aloo Tikki        1  pcs    Tikki\n",
       "9    Aloo Tikki Twist           Mayonnaise       15   gm   Sauces\n",
       "10        Veg Makhani                  Bun        1  pcs    Other\n",
       "11        Veg Makhani         Makhni Sauce       12   gm   Sauces\n",
       "12        Veg Makhani              Iceberg        8   gm  Veggies\n",
       "13        Veg Makhani                Onion        8   gm  Veggies\n",
       "14        Veg Makhani            Veg Tikki        1  pcs    Tikki\n",
       "15        Veg Makhani         Makhni Sauce       15   gm   Sauces\n",
       "16  Crispy Veg Burger                  Bun        1  pcs    Other\n",
       "17  Crispy Veg Burger         Creamy Sauce       20   gm   Sauces\n",
       "18  Crispy Veg Burger              Lettuce        8   gm  Veggies\n",
       "19  Crispy Veg Burger             Jalapeno        2  pcs  Veggies\n",
       "20  Crispy Veg Burger                Onion        8   gm  Veggies\n",
       "21  Crispy Veg Burger            Veg Tikki        1  pcs    Tikki\n",
       "22  Crispy Veg Burger  Chilly Loaded Sauce       10   gm   Sauces"
      ]
     },
     "execution_count": 12,
     "metadata": {},
     "output_type": "execute_result"
    }
   ],
   "source": [
    "# Adding Category columns add on\n",
    "# Function to determine the category of an ingredient\n",
    "def get_category(ingredient):\n",
    "    for category, ingredients in ingredient_category.items():\n",
    "        if ingredient in ingredients:\n",
    "            return category\n",
    "    return 'Unknown'  # In case the ingredient is not found\n",
    "\n",
    "# Add a new column 'Category' by applying the get_category function\n",
    "df['Category'] = df['Ingredient'].apply(get_category)\n",
    "df.head(23)"
   ]
  },
  {
   "cell_type": "code",
   "execution_count": 13,
   "metadata": {},
   "outputs": [],
   "source": [
    "# df.to_csv(\"Ingredients.csv\", index=False)"
   ]
  },
  {
   "cell_type": "code",
   "execution_count": 14,
   "metadata": {},
   "outputs": [
    {
     "name": "stdout",
     "output_type": "stream",
     "text": [
      "['Other' 'Sauces' 'Veggies' 'Tikki']\n"
     ]
    },
    {
     "data": {
      "text/html": [
       "<div>\n",
       "<style scoped>\n",
       "    .dataframe tbody tr th:only-of-type {\n",
       "        vertical-align: middle;\n",
       "    }\n",
       "\n",
       "    .dataframe tbody tr th {\n",
       "        vertical-align: top;\n",
       "    }\n",
       "\n",
       "    .dataframe thead th {\n",
       "        text-align: right;\n",
       "    }\n",
       "</style>\n",
       "<table border=\"1\" class=\"dataframe\">\n",
       "  <thead>\n",
       "    <tr style=\"text-align: right;\">\n",
       "      <th></th>\n",
       "      <th>Category</th>\n",
       "      <th>Ingredient</th>\n",
       "      <th>count</th>\n",
       "    </tr>\n",
       "  </thead>\n",
       "  <tbody>\n",
       "    <tr>\n",
       "      <th>0</th>\n",
       "      <td>Other</td>\n",
       "      <td>Bun</td>\n",
       "      <td>10</td>\n",
       "    </tr>\n",
       "    <tr>\n",
       "      <th>1</th>\n",
       "      <td>Other</td>\n",
       "      <td>Cheese Slice</td>\n",
       "      <td>1</td>\n",
       "    </tr>\n",
       "    <tr>\n",
       "      <th>2</th>\n",
       "      <td>Sauces</td>\n",
       "      <td>Chilly Loaded Sauce</td>\n",
       "      <td>5</td>\n",
       "    </tr>\n",
       "    <tr>\n",
       "      <th>3</th>\n",
       "      <td>Sauces</td>\n",
       "      <td>Creamy Sauce</td>\n",
       "      <td>3</td>\n",
       "    </tr>\n",
       "    <tr>\n",
       "      <th>4</th>\n",
       "      <td>Sauces</td>\n",
       "      <td>Supreme Sauce</td>\n",
       "      <td>3</td>\n",
       "    </tr>\n",
       "    <tr>\n",
       "      <th>5</th>\n",
       "      <td>Sauces</td>\n",
       "      <td>Aloo Tikki Sauce</td>\n",
       "      <td>2</td>\n",
       "    </tr>\n",
       "    <tr>\n",
       "      <th>6</th>\n",
       "      <td>Sauces</td>\n",
       "      <td>Makhni Sauce</td>\n",
       "      <td>2</td>\n",
       "    </tr>\n",
       "    <tr>\n",
       "      <th>7</th>\n",
       "      <td>Sauces</td>\n",
       "      <td>Nacho Sauce</td>\n",
       "      <td>2</td>\n",
       "    </tr>\n",
       "    <tr>\n",
       "      <th>8</th>\n",
       "      <td>Sauces</td>\n",
       "      <td>Wrap Sauce</td>\n",
       "      <td>2</td>\n",
       "    </tr>\n",
       "    <tr>\n",
       "      <th>9</th>\n",
       "      <td>Sauces</td>\n",
       "      <td>Mayonnaise</td>\n",
       "      <td>1</td>\n",
       "    </tr>\n",
       "    <tr>\n",
       "      <th>10</th>\n",
       "      <td>Sauces</td>\n",
       "      <td>Twist Sauce</td>\n",
       "      <td>1</td>\n",
       "    </tr>\n",
       "    <tr>\n",
       "      <th>11</th>\n",
       "      <td>Tikki</td>\n",
       "      <td>Veg Tikki</td>\n",
       "      <td>5</td>\n",
       "    </tr>\n",
       "    <tr>\n",
       "      <th>12</th>\n",
       "      <td>Tikki</td>\n",
       "      <td>Aloo Tikki</td>\n",
       "      <td>2</td>\n",
       "    </tr>\n",
       "    <tr>\n",
       "      <th>13</th>\n",
       "      <td>Tikki</td>\n",
       "      <td>Paneer Tikki</td>\n",
       "      <td>2</td>\n",
       "    </tr>\n",
       "    <tr>\n",
       "      <th>14</th>\n",
       "      <td>Tikki</td>\n",
       "      <td>Super Veg Tikki</td>\n",
       "      <td>1</td>\n",
       "    </tr>\n",
       "    <tr>\n",
       "      <th>15</th>\n",
       "      <td>Veggies</td>\n",
       "      <td>Onion</td>\n",
       "      <td>10</td>\n",
       "    </tr>\n",
       "    <tr>\n",
       "      <th>16</th>\n",
       "      <td>Veggies</td>\n",
       "      <td>Jalapeno</td>\n",
       "      <td>6</td>\n",
       "    </tr>\n",
       "    <tr>\n",
       "      <th>17</th>\n",
       "      <td>Veggies</td>\n",
       "      <td>Lettuce</td>\n",
       "      <td>5</td>\n",
       "    </tr>\n",
       "    <tr>\n",
       "      <th>18</th>\n",
       "      <td>Veggies</td>\n",
       "      <td>Iceberg</td>\n",
       "      <td>3</td>\n",
       "    </tr>\n",
       "    <tr>\n",
       "      <th>19</th>\n",
       "      <td>Veggies</td>\n",
       "      <td>Tomato</td>\n",
       "      <td>3</td>\n",
       "    </tr>\n",
       "    <tr>\n",
       "      <th>20</th>\n",
       "      <td>Veggies</td>\n",
       "      <td>Nachos</td>\n",
       "      <td>1</td>\n",
       "    </tr>\n",
       "  </tbody>\n",
       "</table>\n",
       "</div>"
      ],
      "text/plain": [
       "   Category           Ingredient  count\n",
       "0     Other                  Bun     10\n",
       "1     Other         Cheese Slice      1\n",
       "2    Sauces  Chilly Loaded Sauce      5\n",
       "3    Sauces         Creamy Sauce      3\n",
       "4    Sauces        Supreme Sauce      3\n",
       "5    Sauces     Aloo Tikki Sauce      2\n",
       "6    Sauces         Makhni Sauce      2\n",
       "7    Sauces          Nacho Sauce      2\n",
       "8    Sauces           Wrap Sauce      2\n",
       "9    Sauces           Mayonnaise      1\n",
       "10   Sauces          Twist Sauce      1\n",
       "11    Tikki            Veg Tikki      5\n",
       "12    Tikki           Aloo Tikki      2\n",
       "13    Tikki         Paneer Tikki      2\n",
       "14    Tikki      Super Veg Tikki      1\n",
       "15  Veggies                Onion     10\n",
       "16  Veggies             Jalapeno      6\n",
       "17  Veggies              Lettuce      5\n",
       "18  Veggies              Iceberg      3\n",
       "19  Veggies               Tomato      3\n",
       "20  Veggies               Nachos      1"
      ]
     },
     "execution_count": 14,
     "metadata": {},
     "output_type": "execute_result"
    }
   ],
   "source": [
    "#How many times Each Ingredient Use on Burgers Recipe\n",
    "unique_ingredients = df['Category'].unique()\n",
    "print(unique_ingredients)\n",
    "Category_ingredient_totals = df.groupby('Category')['Ingredient'].value_counts().reset_index()\n",
    "Category_ingredient_totals"
   ]
  },
  {
   "cell_type": "code",
   "execution_count": 15,
   "metadata": {},
   "outputs": [
    {
     "data": {
      "text/html": [
       "<div>\n",
       "<style scoped>\n",
       "    .dataframe tbody tr th:only-of-type {\n",
       "        vertical-align: middle;\n",
       "    }\n",
       "\n",
       "    .dataframe tbody tr th {\n",
       "        vertical-align: top;\n",
       "    }\n",
       "\n",
       "    .dataframe thead th {\n",
       "        text-align: right;\n",
       "    }\n",
       "</style>\n",
       "<table border=\"1\" class=\"dataframe\">\n",
       "  <thead>\n",
       "    <tr style=\"text-align: right;\">\n",
       "      <th></th>\n",
       "      <th>Ingredient</th>\n",
       "      <th>Quantity</th>\n",
       "    </tr>\n",
       "  </thead>\n",
       "  <tbody>\n",
       "    <tr>\n",
       "      <th>0</th>\n",
       "      <td>Aloo Tikki</td>\n",
       "      <td>2</td>\n",
       "    </tr>\n",
       "    <tr>\n",
       "      <th>1</th>\n",
       "      <td>Aloo Tikki Sauce</td>\n",
       "      <td>27</td>\n",
       "    </tr>\n",
       "    <tr>\n",
       "      <th>2</th>\n",
       "      <td>Bun</td>\n",
       "      <td>10</td>\n",
       "    </tr>\n",
       "    <tr>\n",
       "      <th>3</th>\n",
       "      <td>Cheese Slice</td>\n",
       "      <td>1</td>\n",
       "    </tr>\n",
       "    <tr>\n",
       "      <th>4</th>\n",
       "      <td>Chilly Loaded Sauce</td>\n",
       "      <td>66</td>\n",
       "    </tr>\n",
       "    <tr>\n",
       "      <th>5</th>\n",
       "      <td>Creamy Sauce</td>\n",
       "      <td>52</td>\n",
       "    </tr>\n",
       "    <tr>\n",
       "      <th>6</th>\n",
       "      <td>Iceberg</td>\n",
       "      <td>24</td>\n",
       "    </tr>\n",
       "    <tr>\n",
       "      <th>7</th>\n",
       "      <td>Jalapeno</td>\n",
       "      <td>12</td>\n",
       "    </tr>\n",
       "    <tr>\n",
       "      <th>8</th>\n",
       "      <td>Lettuce</td>\n",
       "      <td>40</td>\n",
       "    </tr>\n",
       "    <tr>\n",
       "      <th>9</th>\n",
       "      <td>Makhni Sauce</td>\n",
       "      <td>27</td>\n",
       "    </tr>\n",
       "    <tr>\n",
       "      <th>10</th>\n",
       "      <td>Mayonnaise</td>\n",
       "      <td>15</td>\n",
       "    </tr>\n",
       "    <tr>\n",
       "      <th>11</th>\n",
       "      <td>Nacho Sauce</td>\n",
       "      <td>27</td>\n",
       "    </tr>\n",
       "    <tr>\n",
       "      <th>12</th>\n",
       "      <td>Nachos</td>\n",
       "      <td>3</td>\n",
       "    </tr>\n",
       "    <tr>\n",
       "      <th>13</th>\n",
       "      <td>Onion</td>\n",
       "      <td>84</td>\n",
       "    </tr>\n",
       "    <tr>\n",
       "      <th>14</th>\n",
       "      <td>Paneer Tikki</td>\n",
       "      <td>2</td>\n",
       "    </tr>\n",
       "    <tr>\n",
       "      <th>15</th>\n",
       "      <td>Super Veg Tikki</td>\n",
       "      <td>1</td>\n",
       "    </tr>\n",
       "    <tr>\n",
       "      <th>16</th>\n",
       "      <td>Supreme Sauce</td>\n",
       "      <td>70</td>\n",
       "    </tr>\n",
       "    <tr>\n",
       "      <th>17</th>\n",
       "      <td>Tomato</td>\n",
       "      <td>4</td>\n",
       "    </tr>\n",
       "    <tr>\n",
       "      <th>18</th>\n",
       "      <td>Twist Sauce</td>\n",
       "      <td>12</td>\n",
       "    </tr>\n",
       "    <tr>\n",
       "      <th>19</th>\n",
       "      <td>Veg Tikki</td>\n",
       "      <td>6</td>\n",
       "    </tr>\n",
       "    <tr>\n",
       "      <th>20</th>\n",
       "      <td>Wrap Sauce</td>\n",
       "      <td>40</td>\n",
       "    </tr>\n",
       "  </tbody>\n",
       "</table>\n",
       "</div>"
      ],
      "text/plain": [
       "             Ingredient  Quantity\n",
       "0            Aloo Tikki         2\n",
       "1      Aloo Tikki Sauce        27\n",
       "2                   Bun        10\n",
       "3          Cheese Slice         1\n",
       "4   Chilly Loaded Sauce        66\n",
       "5          Creamy Sauce        52\n",
       "6               Iceberg        24\n",
       "7              Jalapeno        12\n",
       "8               Lettuce        40\n",
       "9          Makhni Sauce        27\n",
       "10           Mayonnaise        15\n",
       "11          Nacho Sauce        27\n",
       "12               Nachos         3\n",
       "13                Onion        84\n",
       "14         Paneer Tikki         2\n",
       "15      Super Veg Tikki         1\n",
       "16        Supreme Sauce        70\n",
       "17               Tomato         4\n",
       "18          Twist Sauce        12\n",
       "19            Veg Tikki         6\n",
       "20           Wrap Sauce        40"
      ]
     },
     "execution_count": 15,
     "metadata": {},
     "output_type": "execute_result"
    }
   ],
   "source": [
    "# Convert Quantity to numeric (int)\n",
    "df['Quantity'] = df['Quantity'].astype(int)\n",
    "\n",
    "#Ingredient Consumptions based on Quantity\n",
    "# Group by Ingredient and sum the Quantity\n",
    "ingredient_totals = df.groupby('Ingredient')['Quantity'].sum().reset_index()\n",
    "ingredient_totals"
   ]
  },
  {
   "cell_type": "code",
   "execution_count": 16,
   "metadata": {},
   "outputs": [
    {
     "data": {
      "text/html": [
       "<div>\n",
       "<style scoped>\n",
       "    .dataframe tbody tr th:only-of-type {\n",
       "        vertical-align: middle;\n",
       "    }\n",
       "\n",
       "    .dataframe tbody tr th {\n",
       "        vertical-align: top;\n",
       "    }\n",
       "\n",
       "    .dataframe thead th {\n",
       "        text-align: right;\n",
       "    }\n",
       "</style>\n",
       "<table border=\"1\" class=\"dataframe\">\n",
       "  <thead>\n",
       "    <tr style=\"text-align: right;\">\n",
       "      <th></th>\n",
       "      <th>Unit</th>\n",
       "      <th>Ingredient</th>\n",
       "    </tr>\n",
       "  </thead>\n",
       "  <tbody>\n",
       "    <tr>\n",
       "      <th>0</th>\n",
       "      <td>pcs</td>\n",
       "      <td>Bun</td>\n",
       "    </tr>\n",
       "    <tr>\n",
       "      <th>1</th>\n",
       "      <td>gm</td>\n",
       "      <td>Aloo Tikki Sauce</td>\n",
       "    </tr>\n",
       "    <tr>\n",
       "      <th>2</th>\n",
       "      <td>gm</td>\n",
       "      <td>Onion</td>\n",
       "    </tr>\n",
       "    <tr>\n",
       "      <th>3</th>\n",
       "      <td>pcs</td>\n",
       "      <td>Aloo Tikki</td>\n",
       "    </tr>\n",
       "    <tr>\n",
       "      <th>4</th>\n",
       "      <td>gm</td>\n",
       "      <td>Aloo Tikki Sauce</td>\n",
       "    </tr>\n",
       "    <tr>\n",
       "      <th>...</th>\n",
       "      <td>...</td>\n",
       "      <td>...</td>\n",
       "    </tr>\n",
       "    <tr>\n",
       "      <th>65</th>\n",
       "      <td>pcs</td>\n",
       "      <td>Jalapeno</td>\n",
       "    </tr>\n",
       "    <tr>\n",
       "      <th>66</th>\n",
       "      <td>gm</td>\n",
       "      <td>Onion</td>\n",
       "    </tr>\n",
       "    <tr>\n",
       "      <th>67</th>\n",
       "      <td>pcs</td>\n",
       "      <td>Cheese Slice</td>\n",
       "    </tr>\n",
       "    <tr>\n",
       "      <th>68</th>\n",
       "      <td>pcs</td>\n",
       "      <td>Veg Tikki</td>\n",
       "    </tr>\n",
       "    <tr>\n",
       "      <th>69</th>\n",
       "      <td>gm</td>\n",
       "      <td>Chilly Loaded Sauce</td>\n",
       "    </tr>\n",
       "  </tbody>\n",
       "</table>\n",
       "<p>70 rows × 2 columns</p>\n",
       "</div>"
      ],
      "text/plain": [
       "   Unit           Ingredient\n",
       "0   pcs                  Bun\n",
       "1    gm     Aloo Tikki Sauce\n",
       "2    gm                Onion\n",
       "3   pcs           Aloo Tikki\n",
       "4    gm     Aloo Tikki Sauce\n",
       "..  ...                  ...\n",
       "65  pcs             Jalapeno\n",
       "66   gm                Onion\n",
       "67  pcs         Cheese Slice\n",
       "68  pcs            Veg Tikki\n",
       "69   gm  Chilly Loaded Sauce\n",
       "\n",
       "[70 rows x 2 columns]"
      ]
     },
     "execution_count": 16,
     "metadata": {},
     "output_type": "execute_result"
    }
   ],
   "source": [
    "# Copying the DataFrame and selecting specific columns\n",
    "unit_columns_df = df[['Unit', 'Ingredient']].copy()\n",
    "unit_columns_df"
   ]
  },
  {
   "cell_type": "code",
   "execution_count": 17,
   "metadata": {},
   "outputs": [
    {
     "data": {
      "text/html": [
       "<div>\n",
       "<style scoped>\n",
       "    .dataframe tbody tr th:only-of-type {\n",
       "        vertical-align: middle;\n",
       "    }\n",
       "\n",
       "    .dataframe tbody tr th {\n",
       "        vertical-align: top;\n",
       "    }\n",
       "\n",
       "    .dataframe thead th {\n",
       "        text-align: right;\n",
       "    }\n",
       "</style>\n",
       "<table border=\"1\" class=\"dataframe\">\n",
       "  <thead>\n",
       "    <tr style=\"text-align: right;\">\n",
       "      <th></th>\n",
       "      <th>Category</th>\n",
       "      <th>Ingredient</th>\n",
       "      <th>count</th>\n",
       "      <th>Quantity</th>\n",
       "    </tr>\n",
       "  </thead>\n",
       "  <tbody>\n",
       "    <tr>\n",
       "      <th>0</th>\n",
       "      <td>Other</td>\n",
       "      <td>Bun</td>\n",
       "      <td>10</td>\n",
       "      <td>10</td>\n",
       "    </tr>\n",
       "    <tr>\n",
       "      <th>1</th>\n",
       "      <td>Other</td>\n",
       "      <td>Cheese Slice</td>\n",
       "      <td>1</td>\n",
       "      <td>1</td>\n",
       "    </tr>\n",
       "    <tr>\n",
       "      <th>2</th>\n",
       "      <td>Sauces</td>\n",
       "      <td>Chilly Loaded Sauce</td>\n",
       "      <td>5</td>\n",
       "      <td>66</td>\n",
       "    </tr>\n",
       "    <tr>\n",
       "      <th>3</th>\n",
       "      <td>Sauces</td>\n",
       "      <td>Creamy Sauce</td>\n",
       "      <td>3</td>\n",
       "      <td>52</td>\n",
       "    </tr>\n",
       "    <tr>\n",
       "      <th>4</th>\n",
       "      <td>Sauces</td>\n",
       "      <td>Supreme Sauce</td>\n",
       "      <td>3</td>\n",
       "      <td>70</td>\n",
       "    </tr>\n",
       "    <tr>\n",
       "      <th>5</th>\n",
       "      <td>Sauces</td>\n",
       "      <td>Aloo Tikki Sauce</td>\n",
       "      <td>2</td>\n",
       "      <td>27</td>\n",
       "    </tr>\n",
       "    <tr>\n",
       "      <th>6</th>\n",
       "      <td>Sauces</td>\n",
       "      <td>Makhni Sauce</td>\n",
       "      <td>2</td>\n",
       "      <td>27</td>\n",
       "    </tr>\n",
       "    <tr>\n",
       "      <th>7</th>\n",
       "      <td>Sauces</td>\n",
       "      <td>Nacho Sauce</td>\n",
       "      <td>2</td>\n",
       "      <td>27</td>\n",
       "    </tr>\n",
       "    <tr>\n",
       "      <th>8</th>\n",
       "      <td>Sauces</td>\n",
       "      <td>Wrap Sauce</td>\n",
       "      <td>2</td>\n",
       "      <td>40</td>\n",
       "    </tr>\n",
       "    <tr>\n",
       "      <th>9</th>\n",
       "      <td>Sauces</td>\n",
       "      <td>Mayonnaise</td>\n",
       "      <td>1</td>\n",
       "      <td>15</td>\n",
       "    </tr>\n",
       "    <tr>\n",
       "      <th>10</th>\n",
       "      <td>Sauces</td>\n",
       "      <td>Twist Sauce</td>\n",
       "      <td>1</td>\n",
       "      <td>12</td>\n",
       "    </tr>\n",
       "    <tr>\n",
       "      <th>11</th>\n",
       "      <td>Tikki</td>\n",
       "      <td>Veg Tikki</td>\n",
       "      <td>5</td>\n",
       "      <td>6</td>\n",
       "    </tr>\n",
       "    <tr>\n",
       "      <th>12</th>\n",
       "      <td>Tikki</td>\n",
       "      <td>Aloo Tikki</td>\n",
       "      <td>2</td>\n",
       "      <td>2</td>\n",
       "    </tr>\n",
       "    <tr>\n",
       "      <th>13</th>\n",
       "      <td>Tikki</td>\n",
       "      <td>Paneer Tikki</td>\n",
       "      <td>2</td>\n",
       "      <td>2</td>\n",
       "    </tr>\n",
       "    <tr>\n",
       "      <th>14</th>\n",
       "      <td>Tikki</td>\n",
       "      <td>Super Veg Tikki</td>\n",
       "      <td>1</td>\n",
       "      <td>1</td>\n",
       "    </tr>\n",
       "    <tr>\n",
       "      <th>15</th>\n",
       "      <td>Veggies</td>\n",
       "      <td>Onion</td>\n",
       "      <td>10</td>\n",
       "      <td>84</td>\n",
       "    </tr>\n",
       "    <tr>\n",
       "      <th>16</th>\n",
       "      <td>Veggies</td>\n",
       "      <td>Jalapeno</td>\n",
       "      <td>6</td>\n",
       "      <td>12</td>\n",
       "    </tr>\n",
       "    <tr>\n",
       "      <th>17</th>\n",
       "      <td>Veggies</td>\n",
       "      <td>Lettuce</td>\n",
       "      <td>5</td>\n",
       "      <td>40</td>\n",
       "    </tr>\n",
       "    <tr>\n",
       "      <th>18</th>\n",
       "      <td>Veggies</td>\n",
       "      <td>Iceberg</td>\n",
       "      <td>3</td>\n",
       "      <td>24</td>\n",
       "    </tr>\n",
       "    <tr>\n",
       "      <th>19</th>\n",
       "      <td>Veggies</td>\n",
       "      <td>Tomato</td>\n",
       "      <td>3</td>\n",
       "      <td>4</td>\n",
       "    </tr>\n",
       "    <tr>\n",
       "      <th>20</th>\n",
       "      <td>Veggies</td>\n",
       "      <td>Nachos</td>\n",
       "      <td>1</td>\n",
       "      <td>3</td>\n",
       "    </tr>\n",
       "  </tbody>\n",
       "</table>\n",
       "</div>"
      ],
      "text/plain": [
       "   Category           Ingredient  count  Quantity\n",
       "0     Other                  Bun     10        10\n",
       "1     Other         Cheese Slice      1         1\n",
       "2    Sauces  Chilly Loaded Sauce      5        66\n",
       "3    Sauces         Creamy Sauce      3        52\n",
       "4    Sauces        Supreme Sauce      3        70\n",
       "5    Sauces     Aloo Tikki Sauce      2        27\n",
       "6    Sauces         Makhni Sauce      2        27\n",
       "7    Sauces          Nacho Sauce      2        27\n",
       "8    Sauces           Wrap Sauce      2        40\n",
       "9    Sauces           Mayonnaise      1        15\n",
       "10   Sauces          Twist Sauce      1        12\n",
       "11    Tikki            Veg Tikki      5         6\n",
       "12    Tikki           Aloo Tikki      2         2\n",
       "13    Tikki         Paneer Tikki      2         2\n",
       "14    Tikki      Super Veg Tikki      1         1\n",
       "15  Veggies                Onion     10        84\n",
       "16  Veggies             Jalapeno      6        12\n",
       "17  Veggies              Lettuce      5        40\n",
       "18  Veggies              Iceberg      3        24\n",
       "19  Veggies               Tomato      3         4\n",
       "20  Veggies               Nachos      1         3"
      ]
     },
     "execution_count": 17,
     "metadata": {},
     "output_type": "execute_result"
    }
   ],
   "source": [
    "# Merge both DataFrames on 'Ingredient'\n",
    "merged_df = pd.merge(Category_ingredient_totals,ingredient_totals, on='Ingredient')\n",
    "merged_df"
   ]
  },
  {
   "cell_type": "code",
   "execution_count": 18,
   "metadata": {},
   "outputs": [
    {
     "data": {
      "text/html": [
       "<div>\n",
       "<style scoped>\n",
       "    .dataframe tbody tr th:only-of-type {\n",
       "        vertical-align: middle;\n",
       "    }\n",
       "\n",
       "    .dataframe tbody tr th {\n",
       "        vertical-align: top;\n",
       "    }\n",
       "\n",
       "    .dataframe thead th {\n",
       "        text-align: right;\n",
       "    }\n",
       "</style>\n",
       "<table border=\"1\" class=\"dataframe\">\n",
       "  <thead>\n",
       "    <tr style=\"text-align: right;\">\n",
       "      <th></th>\n",
       "      <th>Category</th>\n",
       "      <th>Ingredient</th>\n",
       "      <th>count</th>\n",
       "      <th>Quantity</th>\n",
       "      <th>Unit</th>\n",
       "    </tr>\n",
       "  </thead>\n",
       "  <tbody>\n",
       "    <tr>\n",
       "      <th>0</th>\n",
       "      <td>Other</td>\n",
       "      <td>Bun</td>\n",
       "      <td>10</td>\n",
       "      <td>10</td>\n",
       "      <td>pcs</td>\n",
       "    </tr>\n",
       "    <tr>\n",
       "      <th>1</th>\n",
       "      <td>Other</td>\n",
       "      <td>Cheese Slice</td>\n",
       "      <td>1</td>\n",
       "      <td>1</td>\n",
       "      <td>pcs</td>\n",
       "    </tr>\n",
       "    <tr>\n",
       "      <th>2</th>\n",
       "      <td>Sauces</td>\n",
       "      <td>Chilly Loaded Sauce</td>\n",
       "      <td>5</td>\n",
       "      <td>66</td>\n",
       "      <td>gm</td>\n",
       "    </tr>\n",
       "    <tr>\n",
       "      <th>3</th>\n",
       "      <td>Sauces</td>\n",
       "      <td>Creamy Sauce</td>\n",
       "      <td>3</td>\n",
       "      <td>52</td>\n",
       "      <td>gm</td>\n",
       "    </tr>\n",
       "    <tr>\n",
       "      <th>4</th>\n",
       "      <td>Sauces</td>\n",
       "      <td>Supreme Sauce</td>\n",
       "      <td>3</td>\n",
       "      <td>70</td>\n",
       "      <td>gm</td>\n",
       "    </tr>\n",
       "    <tr>\n",
       "      <th>5</th>\n",
       "      <td>Sauces</td>\n",
       "      <td>Aloo Tikki Sauce</td>\n",
       "      <td>2</td>\n",
       "      <td>27</td>\n",
       "      <td>gm</td>\n",
       "    </tr>\n",
       "    <tr>\n",
       "      <th>6</th>\n",
       "      <td>Sauces</td>\n",
       "      <td>Makhni Sauce</td>\n",
       "      <td>2</td>\n",
       "      <td>27</td>\n",
       "      <td>gm</td>\n",
       "    </tr>\n",
       "    <tr>\n",
       "      <th>7</th>\n",
       "      <td>Sauces</td>\n",
       "      <td>Nacho Sauce</td>\n",
       "      <td>2</td>\n",
       "      <td>27</td>\n",
       "      <td>gm</td>\n",
       "    </tr>\n",
       "    <tr>\n",
       "      <th>8</th>\n",
       "      <td>Sauces</td>\n",
       "      <td>Wrap Sauce</td>\n",
       "      <td>2</td>\n",
       "      <td>40</td>\n",
       "      <td>gm</td>\n",
       "    </tr>\n",
       "    <tr>\n",
       "      <th>9</th>\n",
       "      <td>Sauces</td>\n",
       "      <td>Mayonnaise</td>\n",
       "      <td>1</td>\n",
       "      <td>15</td>\n",
       "      <td>gm</td>\n",
       "    </tr>\n",
       "    <tr>\n",
       "      <th>10</th>\n",
       "      <td>Sauces</td>\n",
       "      <td>Twist Sauce</td>\n",
       "      <td>1</td>\n",
       "      <td>12</td>\n",
       "      <td>gm</td>\n",
       "    </tr>\n",
       "    <tr>\n",
       "      <th>11</th>\n",
       "      <td>Tikki</td>\n",
       "      <td>Veg Tikki</td>\n",
       "      <td>5</td>\n",
       "      <td>6</td>\n",
       "      <td>pcs</td>\n",
       "    </tr>\n",
       "    <tr>\n",
       "      <th>12</th>\n",
       "      <td>Tikki</td>\n",
       "      <td>Aloo Tikki</td>\n",
       "      <td>2</td>\n",
       "      <td>2</td>\n",
       "      <td>pcs</td>\n",
       "    </tr>\n",
       "    <tr>\n",
       "      <th>13</th>\n",
       "      <td>Tikki</td>\n",
       "      <td>Paneer Tikki</td>\n",
       "      <td>2</td>\n",
       "      <td>2</td>\n",
       "      <td>pcs</td>\n",
       "    </tr>\n",
       "    <tr>\n",
       "      <th>14</th>\n",
       "      <td>Tikki</td>\n",
       "      <td>Super Veg Tikki</td>\n",
       "      <td>1</td>\n",
       "      <td>1</td>\n",
       "      <td>pcs</td>\n",
       "    </tr>\n",
       "    <tr>\n",
       "      <th>15</th>\n",
       "      <td>Veggies</td>\n",
       "      <td>Onion</td>\n",
       "      <td>10</td>\n",
       "      <td>84</td>\n",
       "      <td>gm</td>\n",
       "    </tr>\n",
       "    <tr>\n",
       "      <th>16</th>\n",
       "      <td>Veggies</td>\n",
       "      <td>Jalapeno</td>\n",
       "      <td>6</td>\n",
       "      <td>12</td>\n",
       "      <td>pcs</td>\n",
       "    </tr>\n",
       "    <tr>\n",
       "      <th>17</th>\n",
       "      <td>Veggies</td>\n",
       "      <td>Lettuce</td>\n",
       "      <td>5</td>\n",
       "      <td>40</td>\n",
       "      <td>gm</td>\n",
       "    </tr>\n",
       "    <tr>\n",
       "      <th>18</th>\n",
       "      <td>Veggies</td>\n",
       "      <td>Iceberg</td>\n",
       "      <td>3</td>\n",
       "      <td>24</td>\n",
       "      <td>gm</td>\n",
       "    </tr>\n",
       "    <tr>\n",
       "      <th>19</th>\n",
       "      <td>Veggies</td>\n",
       "      <td>Tomato</td>\n",
       "      <td>3</td>\n",
       "      <td>4</td>\n",
       "      <td>pcs</td>\n",
       "    </tr>\n",
       "    <tr>\n",
       "      <th>20</th>\n",
       "      <td>Veggies</td>\n",
       "      <td>Nachos</td>\n",
       "      <td>1</td>\n",
       "      <td>3</td>\n",
       "      <td>pcs</td>\n",
       "    </tr>\n",
       "  </tbody>\n",
       "</table>\n",
       "</div>"
      ],
      "text/plain": [
       "   Category           Ingredient  count  Quantity Unit\n",
       "0     Other                  Bun     10        10  pcs\n",
       "1     Other         Cheese Slice      1         1  pcs\n",
       "2    Sauces  Chilly Loaded Sauce      5        66   gm\n",
       "3    Sauces         Creamy Sauce      3        52   gm\n",
       "4    Sauces        Supreme Sauce      3        70   gm\n",
       "5    Sauces     Aloo Tikki Sauce      2        27   gm\n",
       "6    Sauces         Makhni Sauce      2        27   gm\n",
       "7    Sauces          Nacho Sauce      2        27   gm\n",
       "8    Sauces           Wrap Sauce      2        40   gm\n",
       "9    Sauces           Mayonnaise      1        15   gm\n",
       "10   Sauces          Twist Sauce      1        12   gm\n",
       "11    Tikki            Veg Tikki      5         6  pcs\n",
       "12    Tikki           Aloo Tikki      2         2  pcs\n",
       "13    Tikki         Paneer Tikki      2         2  pcs\n",
       "14    Tikki      Super Veg Tikki      1         1  pcs\n",
       "15  Veggies                Onion     10        84   gm\n",
       "16  Veggies             Jalapeno      6        12  pcs\n",
       "17  Veggies              Lettuce      5        40   gm\n",
       "18  Veggies              Iceberg      3        24   gm\n",
       "19  Veggies               Tomato      3         4  pcs\n",
       "20  Veggies               Nachos      1         3  pcs"
      ]
     },
     "execution_count": 18,
     "metadata": {},
     "output_type": "execute_result"
    }
   ],
   "source": [
    "# Merging the three DataFrames\n",
    "merged_df = Category_ingredient_totals.merge(ingredient_totals, on='Ingredient').merge(unit_columns_df, on='Ingredient')\n",
    "merged_df=merged_df.drop_duplicates()\n",
    "merged_df=merged_df.reset_index(drop=True)\n",
    "merged_df"
   ]
  },
  {
   "cell_type": "code",
   "execution_count": 19,
   "metadata": {},
   "outputs": [
    {
     "data": {
      "text/html": [
       "<div>\n",
       "<style scoped>\n",
       "    .dataframe tbody tr th:only-of-type {\n",
       "        vertical-align: middle;\n",
       "    }\n",
       "\n",
       "    .dataframe tbody tr th {\n",
       "        vertical-align: top;\n",
       "    }\n",
       "\n",
       "    .dataframe thead th {\n",
       "        text-align: right;\n",
       "    }\n",
       "</style>\n",
       "<table border=\"1\" class=\"dataframe\">\n",
       "  <thead>\n",
       "    <tr style=\"text-align: right;\">\n",
       "      <th></th>\n",
       "      <th>Category</th>\n",
       "      <th>Ingredient</th>\n",
       "      <th>count</th>\n",
       "      <th>Quantity</th>\n",
       "      <th>Unit</th>\n",
       "    </tr>\n",
       "  </thead>\n",
       "  <tbody>\n",
       "    <tr>\n",
       "      <th>0</th>\n",
       "      <td>Other</td>\n",
       "      <td>Bun</td>\n",
       "      <td>10</td>\n",
       "      <td>10</td>\n",
       "      <td>pcs</td>\n",
       "    </tr>\n",
       "    <tr>\n",
       "      <th>1</th>\n",
       "      <td>Other</td>\n",
       "      <td>Cheese Slice</td>\n",
       "      <td>1</td>\n",
       "      <td>1</td>\n",
       "      <td>pcs</td>\n",
       "    </tr>\n",
       "  </tbody>\n",
       "</table>\n",
       "</div>"
      ],
      "text/plain": [
       "  Category    Ingredient  count  Quantity Unit\n",
       "0    Other           Bun     10        10  pcs\n",
       "1    Other  Cheese Slice      1         1  pcs"
      ]
     },
     "execution_count": 19,
     "metadata": {},
     "output_type": "execute_result"
    }
   ],
   "source": [
    "merged_df.head(2)"
   ]
  },
  {
   "cell_type": "code",
   "execution_count": 20,
   "metadata": {},
   "outputs": [
    {
     "data": {
      "text/html": [
       "<div>\n",
       "<style scoped>\n",
       "    .dataframe tbody tr th:only-of-type {\n",
       "        vertical-align: middle;\n",
       "    }\n",
       "\n",
       "    .dataframe tbody tr th {\n",
       "        vertical-align: top;\n",
       "    }\n",
       "\n",
       "    .dataframe thead th {\n",
       "        text-align: right;\n",
       "    }\n",
       "</style>\n",
       "<table border=\"1\" class=\"dataframe\">\n",
       "  <thead>\n",
       "    <tr style=\"text-align: right;\">\n",
       "      <th></th>\n",
       "      <th>Date</th>\n",
       "      <th>Food Item</th>\n",
       "      <th>Sales</th>\n",
       "      <th>Price</th>\n",
       "      <th>Category</th>\n",
       "    </tr>\n",
       "  </thead>\n",
       "  <tbody>\n",
       "    <tr>\n",
       "      <th>0</th>\n",
       "      <td>2024-07-01</td>\n",
       "      <td>Aloo Tikki Burger</td>\n",
       "      <td>69</td>\n",
       "      <td>49</td>\n",
       "      <td>Burger</td>\n",
       "    </tr>\n",
       "    <tr>\n",
       "      <th>1</th>\n",
       "      <td>2024-07-01</td>\n",
       "      <td>Aloo Tikki Twist</td>\n",
       "      <td>54</td>\n",
       "      <td>69</td>\n",
       "      <td>Burger</td>\n",
       "    </tr>\n",
       "  </tbody>\n",
       "</table>\n",
       "</div>"
      ],
      "text/plain": [
       "        Date          Food Item  Sales  Price Category\n",
       "0 2024-07-01  Aloo Tikki Burger     69     49   Burger\n",
       "1 2024-07-01   Aloo Tikki Twist     54     69   Burger"
      ]
     },
     "execution_count": 20,
     "metadata": {},
     "output_type": "execute_result"
    }
   ],
   "source": [
    "dummy_data.head(2)"
   ]
  },
  {
   "cell_type": "code",
   "execution_count": 21,
   "metadata": {},
   "outputs": [
    {
     "data": {
      "application/vnd.plotly.v1+json": {
       "config": {
        "plotlyServerURL": "https://plot.ly"
       },
       "data": [
        {
         "name": "Total Consumption",
         "type": "bar",
         "x": [
          "Aloo Tikki",
          "Aloo Tikki Sauce",
          "Bun",
          "Cheese Slice",
          "Chilly Loaded Sauce",
          "Creamy Sauce",
          "Iceberg",
          "Jalapeno",
          "Lettuce",
          "Makhni Sauce",
          "Mayonnaise",
          "Nacho Sauce",
          "Nachos",
          "Onion",
          "Paneer Tikki",
          "Super Veg Tikki",
          "Supreme Sauce",
          "Tomato",
          "Twist Sauce",
          "Veg Tikki",
          "Wrap Sauce"
         ],
         "y": [
          11072,
          143262,
          53921,
          5450,
          346924,
          285064,
          127808,
          64400,
          214984,
          145152,
          86490,
          144891,
          16449,
          452388,
          10564,
          5273,
          373100,
          21410,
          69192,
          32462,
          211730
         ]
        }
       ],
       "layout": {
        "font": {
         "color": "white",
         "family": "Courier New, monospace",
         "size": 14
        },
        "template": {
         "data": {
          "bar": [
           {
            "error_x": {
             "color": "#f2f5fa"
            },
            "error_y": {
             "color": "#f2f5fa"
            },
            "marker": {
             "line": {
              "color": "rgb(17,17,17)",
              "width": 0.5
             },
             "pattern": {
              "fillmode": "overlay",
              "size": 10,
              "solidity": 0.2
             }
            },
            "type": "bar"
           }
          ],
          "barpolar": [
           {
            "marker": {
             "line": {
              "color": "rgb(17,17,17)",
              "width": 0.5
             },
             "pattern": {
              "fillmode": "overlay",
              "size": 10,
              "solidity": 0.2
             }
            },
            "type": "barpolar"
           }
          ],
          "carpet": [
           {
            "aaxis": {
             "endlinecolor": "#A2B1C6",
             "gridcolor": "#506784",
             "linecolor": "#506784",
             "minorgridcolor": "#506784",
             "startlinecolor": "#A2B1C6"
            },
            "baxis": {
             "endlinecolor": "#A2B1C6",
             "gridcolor": "#506784",
             "linecolor": "#506784",
             "minorgridcolor": "#506784",
             "startlinecolor": "#A2B1C6"
            },
            "type": "carpet"
           }
          ],
          "choropleth": [
           {
            "colorbar": {
             "outlinewidth": 0,
             "ticks": ""
            },
            "type": "choropleth"
           }
          ],
          "contour": [
           {
            "colorbar": {
             "outlinewidth": 0,
             "ticks": ""
            },
            "colorscale": [
             [
              0,
              "#0d0887"
             ],
             [
              0.1111111111111111,
              "#46039f"
             ],
             [
              0.2222222222222222,
              "#7201a8"
             ],
             [
              0.3333333333333333,
              "#9c179e"
             ],
             [
              0.4444444444444444,
              "#bd3786"
             ],
             [
              0.5555555555555556,
              "#d8576b"
             ],
             [
              0.6666666666666666,
              "#ed7953"
             ],
             [
              0.7777777777777778,
              "#fb9f3a"
             ],
             [
              0.8888888888888888,
              "#fdca26"
             ],
             [
              1,
              "#f0f921"
             ]
            ],
            "type": "contour"
           }
          ],
          "contourcarpet": [
           {
            "colorbar": {
             "outlinewidth": 0,
             "ticks": ""
            },
            "type": "contourcarpet"
           }
          ],
          "heatmap": [
           {
            "colorbar": {
             "outlinewidth": 0,
             "ticks": ""
            },
            "colorscale": [
             [
              0,
              "#0d0887"
             ],
             [
              0.1111111111111111,
              "#46039f"
             ],
             [
              0.2222222222222222,
              "#7201a8"
             ],
             [
              0.3333333333333333,
              "#9c179e"
             ],
             [
              0.4444444444444444,
              "#bd3786"
             ],
             [
              0.5555555555555556,
              "#d8576b"
             ],
             [
              0.6666666666666666,
              "#ed7953"
             ],
             [
              0.7777777777777778,
              "#fb9f3a"
             ],
             [
              0.8888888888888888,
              "#fdca26"
             ],
             [
              1,
              "#f0f921"
             ]
            ],
            "type": "heatmap"
           }
          ],
          "heatmapgl": [
           {
            "colorbar": {
             "outlinewidth": 0,
             "ticks": ""
            },
            "colorscale": [
             [
              0,
              "#0d0887"
             ],
             [
              0.1111111111111111,
              "#46039f"
             ],
             [
              0.2222222222222222,
              "#7201a8"
             ],
             [
              0.3333333333333333,
              "#9c179e"
             ],
             [
              0.4444444444444444,
              "#bd3786"
             ],
             [
              0.5555555555555556,
              "#d8576b"
             ],
             [
              0.6666666666666666,
              "#ed7953"
             ],
             [
              0.7777777777777778,
              "#fb9f3a"
             ],
             [
              0.8888888888888888,
              "#fdca26"
             ],
             [
              1,
              "#f0f921"
             ]
            ],
            "type": "heatmapgl"
           }
          ],
          "histogram": [
           {
            "marker": {
             "pattern": {
              "fillmode": "overlay",
              "size": 10,
              "solidity": 0.2
             }
            },
            "type": "histogram"
           }
          ],
          "histogram2d": [
           {
            "colorbar": {
             "outlinewidth": 0,
             "ticks": ""
            },
            "colorscale": [
             [
              0,
              "#0d0887"
             ],
             [
              0.1111111111111111,
              "#46039f"
             ],
             [
              0.2222222222222222,
              "#7201a8"
             ],
             [
              0.3333333333333333,
              "#9c179e"
             ],
             [
              0.4444444444444444,
              "#bd3786"
             ],
             [
              0.5555555555555556,
              "#d8576b"
             ],
             [
              0.6666666666666666,
              "#ed7953"
             ],
             [
              0.7777777777777778,
              "#fb9f3a"
             ],
             [
              0.8888888888888888,
              "#fdca26"
             ],
             [
              1,
              "#f0f921"
             ]
            ],
            "type": "histogram2d"
           }
          ],
          "histogram2dcontour": [
           {
            "colorbar": {
             "outlinewidth": 0,
             "ticks": ""
            },
            "colorscale": [
             [
              0,
              "#0d0887"
             ],
             [
              0.1111111111111111,
              "#46039f"
             ],
             [
              0.2222222222222222,
              "#7201a8"
             ],
             [
              0.3333333333333333,
              "#9c179e"
             ],
             [
              0.4444444444444444,
              "#bd3786"
             ],
             [
              0.5555555555555556,
              "#d8576b"
             ],
             [
              0.6666666666666666,
              "#ed7953"
             ],
             [
              0.7777777777777778,
              "#fb9f3a"
             ],
             [
              0.8888888888888888,
              "#fdca26"
             ],
             [
              1,
              "#f0f921"
             ]
            ],
            "type": "histogram2dcontour"
           }
          ],
          "mesh3d": [
           {
            "colorbar": {
             "outlinewidth": 0,
             "ticks": ""
            },
            "type": "mesh3d"
           }
          ],
          "parcoords": [
           {
            "line": {
             "colorbar": {
              "outlinewidth": 0,
              "ticks": ""
             }
            },
            "type": "parcoords"
           }
          ],
          "pie": [
           {
            "automargin": true,
            "type": "pie"
           }
          ],
          "scatter": [
           {
            "marker": {
             "line": {
              "color": "#283442"
             }
            },
            "type": "scatter"
           }
          ],
          "scatter3d": [
           {
            "line": {
             "colorbar": {
              "outlinewidth": 0,
              "ticks": ""
             }
            },
            "marker": {
             "colorbar": {
              "outlinewidth": 0,
              "ticks": ""
             }
            },
            "type": "scatter3d"
           }
          ],
          "scattercarpet": [
           {
            "marker": {
             "colorbar": {
              "outlinewidth": 0,
              "ticks": ""
             }
            },
            "type": "scattercarpet"
           }
          ],
          "scattergeo": [
           {
            "marker": {
             "colorbar": {
              "outlinewidth": 0,
              "ticks": ""
             }
            },
            "type": "scattergeo"
           }
          ],
          "scattergl": [
           {
            "marker": {
             "line": {
              "color": "#283442"
             }
            },
            "type": "scattergl"
           }
          ],
          "scattermapbox": [
           {
            "marker": {
             "colorbar": {
              "outlinewidth": 0,
              "ticks": ""
             }
            },
            "type": "scattermapbox"
           }
          ],
          "scatterpolar": [
           {
            "marker": {
             "colorbar": {
              "outlinewidth": 0,
              "ticks": ""
             }
            },
            "type": "scatterpolar"
           }
          ],
          "scatterpolargl": [
           {
            "marker": {
             "colorbar": {
              "outlinewidth": 0,
              "ticks": ""
             }
            },
            "type": "scatterpolargl"
           }
          ],
          "scatterternary": [
           {
            "marker": {
             "colorbar": {
              "outlinewidth": 0,
              "ticks": ""
             }
            },
            "type": "scatterternary"
           }
          ],
          "surface": [
           {
            "colorbar": {
             "outlinewidth": 0,
             "ticks": ""
            },
            "colorscale": [
             [
              0,
              "#0d0887"
             ],
             [
              0.1111111111111111,
              "#46039f"
             ],
             [
              0.2222222222222222,
              "#7201a8"
             ],
             [
              0.3333333333333333,
              "#9c179e"
             ],
             [
              0.4444444444444444,
              "#bd3786"
             ],
             [
              0.5555555555555556,
              "#d8576b"
             ],
             [
              0.6666666666666666,
              "#ed7953"
             ],
             [
              0.7777777777777778,
              "#fb9f3a"
             ],
             [
              0.8888888888888888,
              "#fdca26"
             ],
             [
              1,
              "#f0f921"
             ]
            ],
            "type": "surface"
           }
          ],
          "table": [
           {
            "cells": {
             "fill": {
              "color": "#506784"
             },
             "line": {
              "color": "rgb(17,17,17)"
             }
            },
            "header": {
             "fill": {
              "color": "#2a3f5f"
             },
             "line": {
              "color": "rgb(17,17,17)"
             }
            },
            "type": "table"
           }
          ]
         },
         "layout": {
          "annotationdefaults": {
           "arrowcolor": "#f2f5fa",
           "arrowhead": 0,
           "arrowwidth": 1
          },
          "autotypenumbers": "strict",
          "coloraxis": {
           "colorbar": {
            "outlinewidth": 0,
            "ticks": ""
           }
          },
          "colorscale": {
           "diverging": [
            [
             0,
             "#8e0152"
            ],
            [
             0.1,
             "#c51b7d"
            ],
            [
             0.2,
             "#de77ae"
            ],
            [
             0.3,
             "#f1b6da"
            ],
            [
             0.4,
             "#fde0ef"
            ],
            [
             0.5,
             "#f7f7f7"
            ],
            [
             0.6,
             "#e6f5d0"
            ],
            [
             0.7,
             "#b8e186"
            ],
            [
             0.8,
             "#7fbc41"
            ],
            [
             0.9,
             "#4d9221"
            ],
            [
             1,
             "#276419"
            ]
           ],
           "sequential": [
            [
             0,
             "#0d0887"
            ],
            [
             0.1111111111111111,
             "#46039f"
            ],
            [
             0.2222222222222222,
             "#7201a8"
            ],
            [
             0.3333333333333333,
             "#9c179e"
            ],
            [
             0.4444444444444444,
             "#bd3786"
            ],
            [
             0.5555555555555556,
             "#d8576b"
            ],
            [
             0.6666666666666666,
             "#ed7953"
            ],
            [
             0.7777777777777778,
             "#fb9f3a"
            ],
            [
             0.8888888888888888,
             "#fdca26"
            ],
            [
             1,
             "#f0f921"
            ]
           ],
           "sequentialminus": [
            [
             0,
             "#0d0887"
            ],
            [
             0.1111111111111111,
             "#46039f"
            ],
            [
             0.2222222222222222,
             "#7201a8"
            ],
            [
             0.3333333333333333,
             "#9c179e"
            ],
            [
             0.4444444444444444,
             "#bd3786"
            ],
            [
             0.5555555555555556,
             "#d8576b"
            ],
            [
             0.6666666666666666,
             "#ed7953"
            ],
            [
             0.7777777777777778,
             "#fb9f3a"
            ],
            [
             0.8888888888888888,
             "#fdca26"
            ],
            [
             1,
             "#f0f921"
            ]
           ]
          },
          "colorway": [
           "#636efa",
           "#EF553B",
           "#00cc96",
           "#ab63fa",
           "#FFA15A",
           "#19d3f3",
           "#FF6692",
           "#B6E880",
           "#FF97FF",
           "#FECB52"
          ],
          "font": {
           "color": "#f2f5fa"
          },
          "geo": {
           "bgcolor": "rgb(17,17,17)",
           "lakecolor": "rgb(17,17,17)",
           "landcolor": "rgb(17,17,17)",
           "showlakes": true,
           "showland": true,
           "subunitcolor": "#506784"
          },
          "hoverlabel": {
           "align": "left"
          },
          "hovermode": "closest",
          "mapbox": {
           "style": "dark"
          },
          "paper_bgcolor": "rgb(17,17,17)",
          "plot_bgcolor": "rgb(17,17,17)",
          "polar": {
           "angularaxis": {
            "gridcolor": "#506784",
            "linecolor": "#506784",
            "ticks": ""
           },
           "bgcolor": "rgb(17,17,17)",
           "radialaxis": {
            "gridcolor": "#506784",
            "linecolor": "#506784",
            "ticks": ""
           }
          },
          "scene": {
           "xaxis": {
            "backgroundcolor": "rgb(17,17,17)",
            "gridcolor": "#506784",
            "gridwidth": 2,
            "linecolor": "#506784",
            "showbackground": true,
            "ticks": "",
            "zerolinecolor": "#C8D4E3"
           },
           "yaxis": {
            "backgroundcolor": "rgb(17,17,17)",
            "gridcolor": "#506784",
            "gridwidth": 2,
            "linecolor": "#506784",
            "showbackground": true,
            "ticks": "",
            "zerolinecolor": "#C8D4E3"
           },
           "zaxis": {
            "backgroundcolor": "rgb(17,17,17)",
            "gridcolor": "#506784",
            "gridwidth": 2,
            "linecolor": "#506784",
            "showbackground": true,
            "ticks": "",
            "zerolinecolor": "#C8D4E3"
           }
          },
          "shapedefaults": {
           "line": {
            "color": "#f2f5fa"
           }
          },
          "sliderdefaults": {
           "bgcolor": "#C8D4E3",
           "bordercolor": "rgb(17,17,17)",
           "borderwidth": 1,
           "tickwidth": 0
          },
          "ternary": {
           "aaxis": {
            "gridcolor": "#506784",
            "linecolor": "#506784",
            "ticks": ""
           },
           "baxis": {
            "gridcolor": "#506784",
            "linecolor": "#506784",
            "ticks": ""
           },
           "bgcolor": "rgb(17,17,17)",
           "caxis": {
            "gridcolor": "#506784",
            "linecolor": "#506784",
            "ticks": ""
           }
          },
          "title": {
           "x": 0.05
          },
          "updatemenudefaults": {
           "bgcolor": "#506784",
           "borderwidth": 0
          },
          "xaxis": {
           "automargin": true,
           "gridcolor": "#283442",
           "linecolor": "#506784",
           "ticks": "",
           "title": {
            "standoff": 15
           },
           "zerolinecolor": "#283442",
           "zerolinewidth": 2
          },
          "yaxis": {
           "automargin": true,
           "gridcolor": "#283442",
           "linecolor": "#506784",
           "ticks": "",
           "title": {
            "standoff": 15
           },
           "zerolinecolor": "#283442",
           "zerolinewidth": 2
          }
         }
        },
        "title": {
         "text": "Total Ingredient Consumption Based on Sales"
        },
        "xaxis": {
         "title": {
          "text": "Ingredients"
         }
        },
        "yaxis": {
         "title": {
          "text": "Total Consumption (in units/gm)"
         }
        }
       }
      }
     },
     "metadata": {},
     "output_type": "display_data"
    }
   ],
   "source": [
    "import pandas as pd\n",
    "import plotly.graph_objs as go\n",
    "\n",
    "# Convert both dictionaries to DataFrames\n",
    "df_ingredients = df\n",
    "df_sales = dummy_data\n",
    "\n",
    "# Merge the ingredient data with sales data based on the burger name (Food Item in sales and Burger_Name in ingredients)\n",
    "merged_data = pd.merge(df_sales, df_ingredients, how='left', left_on='Food Item', right_on='Burger_Name')\n",
    "\n",
    "# Calculate total ingredient consumption based on sales\n",
    "merged_data['Total_Consumption'] = merged_data['Sales'] * merged_data['Quantity']\n",
    "\n",
    "# Group the data by Ingredient and sum up the total consumption\n",
    "ingredient_consumption = merged_data.groupby('Ingredient').agg({'Total_Consumption': 'sum'}).reset_index()\n",
    "\n",
    "# Function to visualize ingredient consumption\n",
    "def visualize_total_consumption(consumption_df):\n",
    "    \"\"\"\n",
    "    Function to visualize total ingredient consumption using a bar chart.\n",
    "    \n",
    "    Parameters:\n",
    "    - consumption_df (pd.DataFrame): DataFrame containing ingredient consumption data.\n",
    "    \"\"\"\n",
    "    fig = go.Figure()\n",
    "\n",
    "    fig.add_trace(go.Bar(\n",
    "        x=consumption_df['Ingredient'],  # Ingredients on X-axis\n",
    "        y=consumption_df['Total_Consumption'],  # Total consumption on Y-axis\n",
    "        name='Total Consumption'\n",
    "    ))\n",
    "\n",
    "    # Customize the layout\n",
    "    fig.update_layout(\n",
    "        title='Total Ingredient Consumption Based on Sales',\n",
    "        xaxis_title='Ingredients',\n",
    "        yaxis_title='Total Consumption (in units/gm)',\n",
    "        template='plotly_dark',\n",
    "        font=dict(\n",
    "            family=\"Courier New, monospace\",\n",
    "            size=14,\n",
    "            color=\"white\"\n",
    "        )\n",
    "    )\n",
    "\n",
    "    # Show the figure\n",
    "    fig.show()\n",
    "\n",
    "# Call the function to visualize\n",
    "visualize_total_consumption(ingredient_consumption)\n"
   ]
  },
  {
   "cell_type": "code",
   "execution_count": null,
   "metadata": {},
   "outputs": [],
   "source": [
    "# Convert both dictionaries to DataFrames\n",
    "    df_ingredients = pd.DataFrame(ingredient_data)\n",
    "    df_sales = pd.DataFrame(sales_data)\n",
    "\n",
    "    # Convert 'Date' column to datetime\n",
    "    df_sales['Date'] = pd.to_datetime(df_sales['Date'])\n",
    "\n",
    "    def main():\n",
    "        st.title(\"Burger Ingredient Consumption Analysis\")\n",
    "\n",
    "        # User input for date range\n",
    "        start_date = st.date_input(\"Start Date\", value=pd.to_datetime(\"2024-07-01\"))\n",
    "        end_date = st.date_input(\"End Date\", value=pd.to_datetime(\"2024-09-30\"))\n",
    "\n",
    "        # User input for food items selection\n",
    "        food_items = df_sales['Food Item'].unique()\n",
    "        selected_items = st.multiselect(\"Select Food Items\", options=food_items, default=food_items)\n",
    "\n",
    "        if st.button(\"Analyze\"):\n",
    "            logging.info(f\"User selected date range: {start_date} to {end_date} and food items: {selected_items}\")\n",
    "            try:\n",
    "                # Filter the sales data based on user selections\n",
    "                filtered_sales = df_sales[(df_sales['Date'] >= start_date) & (df_sales['Date'] <= end_date) & (df_sales['Food Item'].isin(selected_items))]\n",
    "                \n",
    "                # Check if the filtered data is empty\n",
    "                if filtered_sales.empty:\n",
    "                    st.warning(\"No data available for the selected date range and food items.\")\n",
    "                    logging.warning(\"No data available for the selected date range and food items.\")\n",
    "                else:\n",
    "                    # Merge the filtered sales with ingredient data\n",
    "                    merged_data = pd.merge(filtered_sales, df_ingredients, how='left', left_on='Food Item', right_on='Burger_Name')\n",
    "\n",
    "                    # Calculate total ingredient consumption based on sales\n",
    "                    merged_data['Total_Consumption'] = merged_data['Sales'] * merged_data['Quantity']\n",
    "\n",
    "                    # Group the data by Ingredient and sum up the total consumption\n",
    "                    ingredient_consumption = merged_data.groupby('Ingredient').agg({'Total_Consumption': 'sum'}).reset_index()\n",
    "\n",
    "                    # Visualize total ingredient consumption\n",
    "                    visualize_total_consumption(ingredient_consumption)\n",
    "\n",
    "            except Exception as e:\n",
    "                st.error(\"An error occurred while processing the data.\")\n",
    "                logging.error(f\"Error occurred: {e}\")"
   ]
  },
  {
   "cell_type": "code",
   "execution_count": 23,
   "metadata": {},
   "outputs": [],
   "source": [
    "df_ingredients = pd.read_csv('D:/work/Burger Buddy/artifacts/Ingredients.csv')\n",
    "df_sales = pd.read_csv('D:/work/Burger Buddy/artifacts/restaurant_dummy_sales.csv')\n"
   ]
  },
  {
   "cell_type": "code",
   "execution_count": 24,
   "metadata": {},
   "outputs": [],
   "source": [
    "df_sales['Date'] = pd.to_datetime(df_sales['Date'])"
   ]
  },
  {
   "cell_type": "code",
   "execution_count": 25,
   "metadata": {},
   "outputs": [
    {
     "data": {
      "text/html": [
       "<div>\n",
       "<style scoped>\n",
       "    .dataframe tbody tr th:only-of-type {\n",
       "        vertical-align: middle;\n",
       "    }\n",
       "\n",
       "    .dataframe tbody tr th {\n",
       "        vertical-align: top;\n",
       "    }\n",
       "\n",
       "    .dataframe thead th {\n",
       "        text-align: right;\n",
       "    }\n",
       "</style>\n",
       "<table border=\"1\" class=\"dataframe\">\n",
       "  <thead>\n",
       "    <tr style=\"text-align: right;\">\n",
       "      <th></th>\n",
       "      <th>Date</th>\n",
       "      <th>Food Item</th>\n",
       "      <th>Sales</th>\n",
       "      <th>Price</th>\n",
       "      <th>Category</th>\n",
       "    </tr>\n",
       "  </thead>\n",
       "  <tbody>\n",
       "    <tr>\n",
       "      <th>0</th>\n",
       "      <td>2024-07-01</td>\n",
       "      <td>Aloo Tikki Burger</td>\n",
       "      <td>39</td>\n",
       "      <td>49</td>\n",
       "      <td>Burger</td>\n",
       "    </tr>\n",
       "    <tr>\n",
       "      <th>1</th>\n",
       "      <td>2024-07-01</td>\n",
       "      <td>Aloo Tikki Twist</td>\n",
       "      <td>30</td>\n",
       "      <td>69</td>\n",
       "      <td>Burger</td>\n",
       "    </tr>\n",
       "    <tr>\n",
       "      <th>2</th>\n",
       "      <td>2024-07-01</td>\n",
       "      <td>Veg Makhani</td>\n",
       "      <td>20</td>\n",
       "      <td>79</td>\n",
       "      <td>Burger</td>\n",
       "    </tr>\n",
       "    <tr>\n",
       "      <th>3</th>\n",
       "      <td>2024-07-01</td>\n",
       "      <td>Crispy Veg Burger</td>\n",
       "      <td>56</td>\n",
       "      <td>99</td>\n",
       "      <td>Burger</td>\n",
       "    </tr>\n",
       "    <tr>\n",
       "      <th>4</th>\n",
       "      <td>2024-07-01</td>\n",
       "      <td>Veg Chilly Loaded Burger</td>\n",
       "      <td>60</td>\n",
       "      <td>99</td>\n",
       "      <td>Burger</td>\n",
       "    </tr>\n",
       "    <tr>\n",
       "      <th>...</th>\n",
       "      <td>...</td>\n",
       "      <td>...</td>\n",
       "      <td>...</td>\n",
       "      <td>...</td>\n",
       "      <td>...</td>\n",
       "    </tr>\n",
       "    <tr>\n",
       "      <th>915</th>\n",
       "      <td>2024-09-30</td>\n",
       "      <td>Desi Masala Crunch</td>\n",
       "      <td>27</td>\n",
       "      <td>119</td>\n",
       "      <td>Burger</td>\n",
       "    </tr>\n",
       "    <tr>\n",
       "      <th>916</th>\n",
       "      <td>2024-09-30</td>\n",
       "      <td>Punjabi Paneer</td>\n",
       "      <td>54</td>\n",
       "      <td>109</td>\n",
       "      <td>Burger</td>\n",
       "    </tr>\n",
       "    <tr>\n",
       "      <th>917</th>\n",
       "      <td>2024-09-30</td>\n",
       "      <td>Veg King Burger</td>\n",
       "      <td>37</td>\n",
       "      <td>99</td>\n",
       "      <td>Burger</td>\n",
       "    </tr>\n",
       "    <tr>\n",
       "      <th>918</th>\n",
       "      <td>2024-09-30</td>\n",
       "      <td>Paneer Supreme Burger</td>\n",
       "      <td>80</td>\n",
       "      <td>129</td>\n",
       "      <td>Burger</td>\n",
       "    </tr>\n",
       "    <tr>\n",
       "      <th>919</th>\n",
       "      <td>2024-09-30</td>\n",
       "      <td>Double Crispy Cheese Burger</td>\n",
       "      <td>86</td>\n",
       "      <td>129</td>\n",
       "      <td>Burger</td>\n",
       "    </tr>\n",
       "  </tbody>\n",
       "</table>\n",
       "<p>920 rows × 5 columns</p>\n",
       "</div>"
      ],
      "text/plain": [
       "          Date                    Food Item  Sales  Price Category\n",
       "0   2024-07-01            Aloo Tikki Burger     39     49   Burger\n",
       "1   2024-07-01             Aloo Tikki Twist     30     69   Burger\n",
       "2   2024-07-01                  Veg Makhani     20     79   Burger\n",
       "3   2024-07-01            Crispy Veg Burger     56     99   Burger\n",
       "4   2024-07-01     Veg Chilly Loaded Burger     60     99   Burger\n",
       "..         ...                          ...    ...    ...      ...\n",
       "915 2024-09-30           Desi Masala Crunch     27    119   Burger\n",
       "916 2024-09-30               Punjabi Paneer     54    109   Burger\n",
       "917 2024-09-30              Veg King Burger     37     99   Burger\n",
       "918 2024-09-30        Paneer Supreme Burger     80    129   Burger\n",
       "919 2024-09-30  Double Crispy Cheese Burger     86    129   Burger\n",
       "\n",
       "[920 rows x 5 columns]"
      ]
     },
     "execution_count": 25,
     "metadata": {},
     "output_type": "execute_result"
    }
   ],
   "source": [
    "df_sales"
   ]
  },
  {
   "cell_type": "code",
   "execution_count": 26,
   "metadata": {},
   "outputs": [],
   "source": [
    "\n",
    "# User input for date range\n",
    "start_date = \"2024-07-01\"\n",
    "end_date = \"2024-07-30\"\n",
    "\n",
    "\t# User input for food items selection\n",
    "food_items = df_sales['Food Item'].unique()\n",
    "selected_items = [\"Aloo Tikki Burger\", \"Aloo Tikki Twist\", \"Veg Makhani\", \"Crispy Veg Burger\"]\n",
    "# Filter the sales data based on user selections\n",
    "filtered_sales = df_sales[(df_sales['Date'] >= start_date) & (df_sales['Date'] <= end_date) & (df_sales['Food Item'].isin(selected_items))]\n",
    "\t\t\t\n",
    "# Check if the filtered data is empty\n",
    "if filtered_sales.empty:\n",
    "\tst.warning(\"No data available for the selected date range and food items.\")\n",
    "\tlg.warning(\"No data available for the selected date range and food items.\")\n",
    "else:\n",
    "# Merge the filtered sales with ingredient data\n",
    "\tmerged_data = pd.merge(filtered_sales, df_ingredients, how='left', left_on='Food Item', right_on='Burger_Name')\n",
    "\n",
    "# Calculate total ingredient consumption based on sales\n",
    "\tmerged_data['Total_Consumption'] = merged_data['Sales'] * merged_data['Quantity']\n",
    "# Group the data by Ingredient and sum up the total consumption\n",
    "\tingredient_consumption = merged_data.groupby('Ingredient').agg({'Total_Consumption': 'sum'}).reset_index()\n",
    "\t# Visualize total ingredient consumption\n",
    "\tingredient_consumption"
   ]
  },
  {
   "cell_type": "code",
   "execution_count": 27,
   "metadata": {},
   "outputs": [
    {
     "data": {
      "text/html": [
       "<div>\n",
       "<style scoped>\n",
       "    .dataframe tbody tr th:only-of-type {\n",
       "        vertical-align: middle;\n",
       "    }\n",
       "\n",
       "    .dataframe tbody tr th {\n",
       "        vertical-align: top;\n",
       "    }\n",
       "\n",
       "    .dataframe thead th {\n",
       "        text-align: right;\n",
       "    }\n",
       "</style>\n",
       "<table border=\"1\" class=\"dataframe\">\n",
       "  <thead>\n",
       "    <tr style=\"text-align: right;\">\n",
       "      <th></th>\n",
       "      <th>Ingredient</th>\n",
       "      <th>Total_Consumption</th>\n",
       "    </tr>\n",
       "  </thead>\n",
       "  <tbody>\n",
       "    <tr>\n",
       "      <th>0</th>\n",
       "      <td>Aloo Tikki</td>\n",
       "      <td>3653</td>\n",
       "    </tr>\n",
       "    <tr>\n",
       "      <th>1</th>\n",
       "      <td>Aloo Tikki Sauce</td>\n",
       "      <td>47601</td>\n",
       "    </tr>\n",
       "    <tr>\n",
       "      <th>2</th>\n",
       "      <td>Bun</td>\n",
       "      <td>7108</td>\n",
       "    </tr>\n",
       "    <tr>\n",
       "      <th>3</th>\n",
       "      <td>Chilly Loaded Sauce</td>\n",
       "      <td>16300</td>\n",
       "    </tr>\n",
       "    <tr>\n",
       "      <th>4</th>\n",
       "      <td>Creamy Sauce</td>\n",
       "      <td>32600</td>\n",
       "    </tr>\n",
       "    <tr>\n",
       "      <th>5</th>\n",
       "      <td>Iceberg</td>\n",
       "      <td>14600</td>\n",
       "    </tr>\n",
       "    <tr>\n",
       "      <th>6</th>\n",
       "      <td>Jalapeno</td>\n",
       "      <td>3260</td>\n",
       "    </tr>\n",
       "    <tr>\n",
       "      <th>7</th>\n",
       "      <td>Lettuce</td>\n",
       "      <td>13040</td>\n",
       "    </tr>\n",
       "    <tr>\n",
       "      <th>8</th>\n",
       "      <td>Makhni Sauce</td>\n",
       "      <td>49275</td>\n",
       "    </tr>\n",
       "    <tr>\n",
       "      <th>9</th>\n",
       "      <td>Mayonnaise</td>\n",
       "      <td>28350</td>\n",
       "    </tr>\n",
       "    <tr>\n",
       "      <th>10</th>\n",
       "      <td>Onion</td>\n",
       "      <td>56864</td>\n",
       "    </tr>\n",
       "    <tr>\n",
       "      <th>11</th>\n",
       "      <td>Twist Sauce</td>\n",
       "      <td>22680</td>\n",
       "    </tr>\n",
       "    <tr>\n",
       "      <th>12</th>\n",
       "      <td>Veg Tikki</td>\n",
       "      <td>3455</td>\n",
       "    </tr>\n",
       "  </tbody>\n",
       "</table>\n",
       "</div>"
      ],
      "text/plain": [
       "             Ingredient  Total_Consumption\n",
       "0            Aloo Tikki               3653\n",
       "1      Aloo Tikki Sauce              47601\n",
       "2                   Bun               7108\n",
       "3   Chilly Loaded Sauce              16300\n",
       "4          Creamy Sauce              32600\n",
       "5               Iceberg              14600\n",
       "6              Jalapeno               3260\n",
       "7               Lettuce              13040\n",
       "8          Makhni Sauce              49275\n",
       "9            Mayonnaise              28350\n",
       "10                Onion              56864\n",
       "11          Twist Sauce              22680\n",
       "12            Veg Tikki               3455"
      ]
     },
     "execution_count": 27,
     "metadata": {},
     "output_type": "execute_result"
    }
   ],
   "source": [
    "ingredient_consumption"
   ]
  }
 ],
 "metadata": {
  "kernelspec": {
   "display_name": "base",
   "language": "python",
   "name": "python3"
  },
  "language_info": {
   "codemirror_mode": {
    "name": "ipython",
    "version": 3
   },
   "file_extension": ".py",
   "mimetype": "text/x-python",
   "name": "python",
   "nbconvert_exporter": "python",
   "pygments_lexer": "ipython3",
   "version": "3.11.9"
  }
 },
 "nbformat": 4,
 "nbformat_minor": 2
}
